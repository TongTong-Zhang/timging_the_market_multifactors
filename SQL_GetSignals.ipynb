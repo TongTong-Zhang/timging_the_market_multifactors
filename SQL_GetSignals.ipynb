{
 "cells": [
  {
   "cell_type": "code",
   "execution_count": 4,
   "id": "ef43a9a8",
   "metadata": {
    "ExecuteTime": {
     "end_time": "2024-06-17T03:59:22.880984Z",
     "start_time": "2024-06-17T03:59:22.876995Z"
    }
   },
   "outputs": [],
   "source": [
    "import pandas as pd\n",
    "import numpy as np\n",
    "import matplotlib.pyplot as plt\n",
    "import seaborn as sns\n",
    "from sqlalchemy import create_engine\n",
    "\n",
    "\n",
    "import talib as ta"
   ]
  },
  {
   "cell_type": "code",
   "execution_count": 5,
   "id": "5f3d21b2",
   "metadata": {
    "ExecuteTime": {
     "end_time": "2024-06-17T03:59:22.886855Z",
     "start_time": "2024-06-17T03:59:22.883109Z"
    }
   },
   "outputs": [],
   "source": [
    "pd.set_option('display.max_columns', None)\n",
    "pd.set_option('display.max_rows', None)"
   ]
  },
  {
   "cell_type": "markdown",
   "id": "486ad488",
   "metadata": {},
   "source": [
    "# Functions"
   ]
  },
  {
   "cell_type": "code",
   "execution_count": 7,
   "id": "5abe9c09",
   "metadata": {
    "ExecuteTime": {
     "end_time": "2024-06-17T03:59:22.900146Z",
     "start_time": "2024-06-17T03:59:22.895077Z"
    }
   },
   "outputs": [],
   "source": [
    "# 通过signal拿到了一个series position\n",
    "def get_position(series,isShift=False):\n",
    "    list_position = [0]\n",
    "    # list_position.extend([0]*(len(roc_signal['signal'])))\n",
    "    for i,signal in enumerate(series):   \n",
    "        if signal == 1:\n",
    "            list_position.append(1)\n",
    "        elif signal == -1:\n",
    "            list_position.append(0)\n",
    "        else:\n",
    "            list_position.append(list_position[-1])\n",
    "            \n",
    "    if isShift:\n",
    "        return list_position\n",
    "    else:\n",
    "        return list_position[1:]"
   ]
  },
  {
   "cell_type": "code",
   "execution_count": 8,
   "id": "c568995e",
   "metadata": {
    "ExecuteTime": {
     "end_time": "2024-06-17T03:59:22.906327Z",
     "start_time": "2024-06-17T03:59:22.902342Z"
    }
   },
   "outputs": [],
   "source": [
    "def day_to_week(df,isrolling=True,rollinig_period = 20,keywords='CLOSE'):\n",
    "    \"\"\"\n",
    "    周度数据，高频变低频，均值-前值填充\n",
    "    \"\"\"\n",
    "    if isrolling==True:\n",
    "        df['rolling'] = df[keywords].rolling(rollinig_period).mean()\n",
    "    else:\n",
    "        df = df\n",
    "    df.index = pd.to_datetime(df.index)\n",
    "    df_ = df.resample('W-SUN').last().ffill().dropna()  # resample用前最邻近值\n",
    "    return df_"
   ]
  },
  {
   "cell_type": "code",
   "execution_count": 9,
   "id": "7be7bb40",
   "metadata": {
    "ExecuteTime": {
     "end_time": "2024-06-17T03:59:22.913045Z",
     "start_time": "2024-06-17T03:59:22.908352Z"
    }
   },
   "outputs": [],
   "source": [
    "# 位置原则，与给定值的距离\n",
    "def positional_rule_value(df,indicator_name,isInverse=False,value1 = 0,value2 = 0):\n",
    "    if isInverse:\n",
    "        con_1 = df[indicator_name] < value1\n",
    "        con_2 = df[indicator_name] > value2\n",
    "    else:\n",
    "        con_1 = df[indicator_name] > value1\n",
    "        con_2 = df[indicator_name] < value2\n",
    "    df.loc[:, 'signal'] = np.where(con_1, 1, np.where(con_2,-1,0))\n",
    "    return df.loc[:, 'signal']"
   ]
  },
  {
   "cell_type": "code",
   "execution_count": 10,
   "id": "cda846a4",
   "metadata": {
    "ExecuteTime": {
     "end_time": "2024-06-17T03:59:22.919041Z",
     "start_time": "2024-06-17T03:59:22.914098Z"
    }
   },
   "outputs": [],
   "source": [
    "# 位置原则，参考线\n",
    "def positional_rule_reference_line(df,indicator_name,reference_line):\n",
    "    con_1 = df[reference_line] > df[indicator_name]\n",
    "    con_2 = df[reference_line] < df[indicator_name]\n",
    "    df.loc[:, 'signal'] = np.where(con_1, 1, np.where(con_2,-1,0))\n",
    "    return df.loc[:, 'signal']"
   ]
  },
  {
   "cell_type": "code",
   "execution_count": 11,
   "id": "7d3db3dc",
   "metadata": {
    "ExecuteTime": {
     "end_time": "2024-06-17T03:59:22.926455Z",
     "start_time": "2024-06-17T03:59:22.921831Z"
    }
   },
   "outputs": [],
   "source": [
    "# 位置原则，与通道的距离\n",
    "def positional_rule_bands(df,upperband,lowerband,reference_line,isMTM=True):\n",
    "    con_1 = df[reference_line] > df[upperband]\n",
    "    con_2 = df[reference_line] < df[lowerband]\n",
    "    \n",
    "    if isMTM:\n",
    "        df.loc[:, 'signal'] = np.where(con_1, 1, np.where(con_2,-1,0))\n",
    "    else:\n",
    "        df.loc[:, 'signal'] = np.where(con_2, 1, np.where(con_1,-1,0))\n",
    "\n",
    "    return df.loc[:, 'signal']"
   ]
  },
  {
   "cell_type": "code",
   "execution_count": 12,
   "id": "243341ac",
   "metadata": {
    "ExecuteTime": {
     "end_time": "2024-06-17T03:59:22.932882Z",
     "start_time": "2024-06-17T03:59:22.928510Z"
    }
   },
   "outputs": [],
   "source": [
    "# dma_ama inclusive\n",
    "def dma_ama_rule(df):\n",
    "    # 根据sma判断买入卖出信号并写入（当天信号。当天卖出）\n",
    "    con_1 = (df['dma'] > 0) & (df['ama'] > 0) & ((df['dma'] - df['dma'].shift(1)) > 0) & (\n",
    "            (df['ama'] - df['ama'].shift(1)) > 0)\n",
    "    con_2 = (df['dma'] < 0) & (df['ama'] < 0) & ((df['dma'] - df['dma'].shift(1)) < 0) & (\n",
    "            (df['ama'] - df['ama'].shift(1)) < 0)\n",
    "    df.loc[:, 'signal'] = np.where(con_1, 1, np.where(con_2, -1, 0))\n",
    "    return df.loc[:,'signal']"
   ]
  },
  {
   "cell_type": "code",
   "execution_count": 13,
   "id": "a75b95e5",
   "metadata": {
    "ExecuteTime": {
     "end_time": "2024-06-17T03:59:22.941528Z",
     "start_time": "2024-06-17T03:59:22.935108Z"
    }
   },
   "outputs": [],
   "source": [
    "# 交叉原则，与给定值交叉\n",
    "def cross_rule(df,isValue=False,**kargs):\n",
    "    def cross_rule_value(indicator_name,value1,value2):# 传入value1、value2\n",
    "        con_1 = ((df[indicator_name].shift(1) < value1) & (df[indicator_name] > value1)) | ((df[indicator_name].shift(1) < value2) & (df[indicator_name] > value2))\n",
    "        con_2 = ((df[indicator_name].shift(1) > value1) & (df[indicator_name] < value1)) | ((df[indicator_name].shift(1) > value2) & (df[indicator_name] < value2))\n",
    "        df.loc[:, 'signal'] = np.where(con_1, 1, np.where(con_2, -1, 0))\n",
    "    def cross_rule_reference_line(ReferenceLine1,ReferenceLine2):  # 传入ReferenceLine1，ReferenceLine2\n",
    "        con_1 = (df[ReferenceLine1].shift(1) < df[ReferenceLine2].shift(1)) & (df[ReferenceLine1] > df[ReferenceLine2])  # 上穿买入，动量策略\n",
    "        con_2 = (df[ReferenceLine1].shift(1) > df[ReferenceLine2].shift(1)) & (df[ReferenceLine1] < df[ReferenceLine2])\n",
    "        df.loc[:, 'signal'] = np.where(con_1, 1, np.where(con_2, -1, 0))\n",
    "    if not isValue:\n",
    "        cross_rule_value(indicator_name=kargs['indicator_name'],value1=kargs['value1'],value2=kargs['value2'])\n",
    "        return df.loc[:, 'signal']\n",
    "\n",
    "    cross_rule_reference_line(ReferenceLine1=kargs['ReferenceLine1'],ReferenceLine2=kargs['ReferenceLine2'])\n",
    "    return df.loc[:, 'signal']"
   ]
  },
  {
   "cell_type": "code",
   "execution_count": 14,
   "id": "f51cbf97",
   "metadata": {
    "ExecuteTime": {
     "end_time": "2024-06-17T03:59:22.947870Z",
     "start_time": "2024-06-17T03:59:22.943612Z"
    }
   },
   "outputs": [],
   "source": [
    "def mom_rule(df,indicator_name='CLOSE',isMTM=True):\n",
    "    if isMTM:\n",
    "        con_1 = df[indicator_name] > df[indicator_name].shift(1)\n",
    "        con_2 = df[indicator_name] < df[indicator_name].shift(1)\n",
    "    else:\n",
    "        con_1 = df[indicator_name] < df[indicator_name].shift(1)\n",
    "        con_2 = df[indicator_name] > df[indicator_name].shift(1)\n",
    "        \n",
    "    df.loc[:, 'signal'] = np.where(con_1, 1, np.where(con_2, -1, 0))\n",
    "    return df.loc[:,'signal']"
   ]
  },
  {
   "cell_type": "code",
   "execution_count": 15,
   "id": "25f7eac2",
   "metadata": {
    "ExecuteTime": {
     "end_time": "2024-06-17T03:59:22.956152Z",
     "start_time": "2024-06-17T03:59:22.949886Z"
    }
   },
   "outputs": [],
   "source": [
    "def yoy_mtm_rule(df,indicator_name):\n",
    "    df['yoy'] =df[indicator_name]/df[indicator_name].shift(12)\n",
    "    con_1 = df['yoy'] > df['yoy'].shift(1)\n",
    "    con_2 = df['yoy'] < df['yoy'].shift(1)\n",
    "    df.loc[:,'signal'] = np.where(con_1, 1, np.where(con_2, -1, 0))\n",
    "    return df.loc[:,'signal']"
   ]
  },
  {
   "cell_type": "code",
   "execution_count": 16,
   "id": "8d59491e",
   "metadata": {
    "ExecuteTime": {
     "end_time": "2024-06-17T03:59:22.964524Z",
     "start_time": "2024-06-17T03:59:22.958155Z"
    }
   },
   "outputs": [],
   "source": [
    "def consecutive_days_rule(df,indicator_name):\n",
    "    df['return'] = df[indicator_name].pct_change(1)\n",
    "    df['streak_up'] = df['return'].gt(0).astype(int).groupby(df['return'].le(0).astype(int).cumsum()).cumsum()  # gt(0)=1计数，gt(0)=0分组\n",
    "    df['streak_down'] = df['return'].lt(0).astype(int).groupby(df['return'].ge(0).astype(int).cumsum()).cumsum()\n",
    "    con_1 = df['streak_up'] >= 3\n",
    "    con_2 = df['streak_down'] >= 3\n",
    "    df.loc[:,'signal'] = np.where(con_1,1,np.where(con_2,-1,0))\n",
    "    return df.loc[:,'signal']"
   ]
  },
  {
   "cell_type": "code",
   "execution_count": 17,
   "id": "e26a3ab0",
   "metadata": {
    "ExecuteTime": {
     "end_time": "2024-06-17T03:59:23.084264Z",
     "start_time": "2024-06-17T03:59:22.966529Z"
    }
   },
   "outputs": [],
   "source": [
    "from sqlalchemy import create_engine\n",
    "engine = create_engine(\"mysql+pymysql://root:@localhost:3306/meta_data?charset=utf8mb4\")\n",
    "\n",
    "# 获取Wind全A周频率收盘价数据\n",
    "df_881001 = pd.read_sql('SELECT Date,HIGH,LOW,CLOSE FROM 881001_wi', engine,index_col='Date')  # 从meta_data提取数据\n",
    "df_881001_ = day_to_week(df_881001,isrolling=False)"
   ]
  },
  {
   "cell_type": "code",
   "execution_count": 18,
   "id": "fb491ed6",
   "metadata": {
    "ExecuteTime": {
     "end_time": "2024-06-17T03:59:27.109471Z",
     "start_time": "2024-06-17T03:59:27.105499Z"
    }
   },
   "outputs": [],
   "source": [
    "def get_sma_idc(df, timeperiod=20):\n",
    "    df['sma'] = ta.SMA(df['CLOSE'].values, timeperiod)\n",
    "    return df.loc[:,'sma']"
   ]
  },
  {
   "cell_type": "code",
   "execution_count": 23,
   "id": "397a290b",
   "metadata": {
    "ExecuteTime": {
     "end_time": "2024-06-17T04:00:26.295780Z",
     "start_time": "2024-06-17T04:00:26.291734Z"
    }
   },
   "outputs": [],
   "source": [
    "engine = create_engine(\"mysql+pymysql://root:@localhost:3306/factors_pool?charset=utf8mb4\")"
   ]
  },
  {
   "cell_type": "code",
   "execution_count": 77,
   "id": "0a69ee91",
   "metadata": {
    "ExecuteTime": {
     "end_time": "2024-06-17T04:02:04.287311Z",
     "start_time": "2024-06-17T04:02:04.283698Z"
    }
   },
   "outputs": [],
   "source": [
    "engine = create_engine(\"mysql+pymysql://root:@localhost:3306/factors_signal?charset=utf8mb4\")"
   ]
  },
  {
   "cell_type": "markdown",
   "id": "eda7c2f3",
   "metadata": {},
   "source": [
    "# 技术指标"
   ]
  },
  {
   "cell_type": "code",
   "execution_count": 20,
   "id": "c59411be",
   "metadata": {
    "ExecuteTime": {
     "end_time": "2024-06-03T03:47:43.157791Z",
     "start_time": "2024-06-03T03:47:43.154778Z"
    }
   },
   "outputs": [
    {
     "name": "stdout",
     "output_type": "stream",
     "text": [
      "***************************************************************************************************\n"
     ]
    }
   ],
   "source": [
    "print('***'*33)"
   ]
  },
  {
   "cell_type": "markdown",
   "id": "af96e826",
   "metadata": {},
   "source": [
    "## roc"
   ]
  },
  {
   "cell_type": "code",
   "execution_count": 20,
   "id": "bae1ca99",
   "metadata": {
    "ExecuteTime": {
     "end_time": "2024-06-17T03:59:58.216198Z",
     "start_time": "2024-06-17T03:59:58.178034Z"
    }
   },
   "outputs": [],
   "source": [
    "roc_idc = pd.read_sql('SELECT * FROM roc_881001_w', engine,index_col='Date')  "
   ]
  },
  {
   "cell_type": "code",
   "execution_count": 21,
   "id": "0686bcc4",
   "metadata": {
    "ExecuteTime": {
     "end_time": "2024-06-17T03:59:59.410699Z",
     "start_time": "2024-06-17T03:59:59.405588Z"
    }
   },
   "outputs": [],
   "source": [
    "roc_signal = positional_rule_value(roc_idc,'roc')"
   ]
  },
  {
   "cell_type": "code",
   "execution_count": 78,
   "id": "0cb4ca9d",
   "metadata": {
    "ExecuteTime": {
     "end_time": "2024-06-17T04:02:18.952783Z",
     "start_time": "2024-06-17T04:02:18.833942Z"
    }
   },
   "outputs": [
    {
     "data": {
      "text/plain": [
       "1537"
      ]
     },
     "execution_count": 78,
     "metadata": {},
     "output_type": "execute_result"
    }
   ],
   "source": [
    "roc_signal.to_sql(name='roc',con=engine,if_exists='replace',index=True,index_label='Date')  # 因子值写入sql"
   ]
  },
  {
   "cell_type": "markdown",
   "id": "60053f22",
   "metadata": {},
   "source": [
    "## sma"
   ]
  },
  {
   "cell_type": "code",
   "execution_count": 24,
   "id": "4993b678",
   "metadata": {
    "ExecuteTime": {
     "end_time": "2024-06-17T04:00:29.685925Z",
     "start_time": "2024-06-17T04:00:29.663041Z"
    }
   },
   "outputs": [],
   "source": [
    "sma_idc = pd.read_sql('SELECT * FROM sma_881001_w', engine,index_col='Date')  "
   ]
  },
  {
   "cell_type": "code",
   "execution_count": 25,
   "id": "ce16dfc9",
   "metadata": {
    "ExecuteTime": {
     "end_time": "2024-06-17T04:00:30.896406Z",
     "start_time": "2024-06-17T04:00:30.888741Z"
    }
   },
   "outputs": [],
   "source": [
    "df_sma = pd.merge(left=sma_idc,right=df_881001_['CLOSE'],left_index=True,right_index=True,how='left')"
   ]
  },
  {
   "cell_type": "code",
   "execution_count": 26,
   "id": "6a7db267",
   "metadata": {
    "ExecuteTime": {
     "end_time": "2024-06-17T04:00:32.100932Z",
     "start_time": "2024-06-17T04:00:32.096070Z"
    },
    "scrolled": true
   },
   "outputs": [],
   "source": [
    "sma_signal = positional_rule_reference_line(df_sma,'sma','CLOSE')"
   ]
  },
  {
   "cell_type": "code",
   "execution_count": 79,
   "id": "f50a8fb4",
   "metadata": {
    "ExecuteTime": {
     "end_time": "2024-06-17T04:02:30.042243Z",
     "start_time": "2024-06-17T04:02:29.967608Z"
    }
   },
   "outputs": [
    {
     "data": {
      "text/plain": [
       "1537"
      ]
     },
     "execution_count": 79,
     "metadata": {},
     "output_type": "execute_result"
    }
   ],
   "source": [
    "sma_signal.to_sql(name='sma',con=engine,if_exists='replace',index=True,index_label='Date')  # 因子值写入sql"
   ]
  },
  {
   "cell_type": "markdown",
   "id": "fedd5eb5",
   "metadata": {},
   "source": [
    "## dma"
   ]
  },
  {
   "cell_type": "code",
   "execution_count": 27,
   "id": "f5e0114e",
   "metadata": {
    "ExecuteTime": {
     "end_time": "2024-06-17T04:00:34.464794Z",
     "start_time": "2024-06-17T04:00:34.426639Z"
    }
   },
   "outputs": [],
   "source": [
    "dma_idc = pd.read_sql('SELECT * FROM dma_881001_w', engine,index_col='Date')  "
   ]
  },
  {
   "cell_type": "code",
   "execution_count": 28,
   "id": "b053a1d2",
   "metadata": {
    "ExecuteTime": {
     "end_time": "2024-06-17T04:00:35.575630Z",
     "start_time": "2024-06-17T04:00:35.571669Z"
    }
   },
   "outputs": [],
   "source": [
    "dma_signal = positional_rule_value(dma_idc,'dma')"
   ]
  },
  {
   "cell_type": "code",
   "execution_count": 81,
   "id": "f6dc3857",
   "metadata": {
    "ExecuteTime": {
     "end_time": "2024-06-17T04:03:31.789624Z",
     "start_time": "2024-06-17T04:03:31.712849Z"
    }
   },
   "outputs": [
    {
     "data": {
      "text/plain": [
       "1537"
      ]
     },
     "execution_count": 81,
     "metadata": {},
     "output_type": "execute_result"
    }
   ],
   "source": [
    "dma_signal.to_sql(name='dma',con=engine,if_exists='replace',index=True,index_label='Date')  # 因子值写入sql"
   ]
  },
  {
   "cell_type": "markdown",
   "id": "ee5ca2c4",
   "metadata": {},
   "source": [
    "## ama"
   ]
  },
  {
   "cell_type": "code",
   "execution_count": 29,
   "id": "90ed837d",
   "metadata": {
    "ExecuteTime": {
     "end_time": "2024-06-17T04:00:38.053959Z",
     "start_time": "2024-06-17T04:00:38.021805Z"
    },
    "scrolled": true
   },
   "outputs": [],
   "source": [
    "dma_ama_idc = pd.read_sql('SELECT ama_881001_w.Date,ama,dma FROM ama_881001_w LEFT JOIN dma_881001_w ON ama_881001_w.Date=dma_881001_w.Date ', engine,index_col='Date')  "
   ]
  },
  {
   "cell_type": "code",
   "execution_count": 30,
   "id": "a26ba5fe",
   "metadata": {
    "ExecuteTime": {
     "end_time": "2024-06-17T04:00:39.144309Z",
     "start_time": "2024-06-17T04:00:39.138910Z"
    }
   },
   "outputs": [],
   "source": [
    "dma_ama_signal = dma_ama_rule(dma_ama_idc)"
   ]
  },
  {
   "cell_type": "code",
   "execution_count": 82,
   "id": "3a81646b",
   "metadata": {
    "ExecuteTime": {
     "end_time": "2024-06-17T04:03:35.849253Z",
     "start_time": "2024-06-17T04:03:35.772680Z"
    }
   },
   "outputs": [
    {
     "data": {
      "text/plain": [
       "1537"
      ]
     },
     "execution_count": 82,
     "metadata": {},
     "output_type": "execute_result"
    }
   ],
   "source": [
    "dma_signal.to_sql(name='dma_ama',con=engine,if_exists='replace',index=True,index_label='Date')  # 因子值写入sql"
   ]
  },
  {
   "cell_type": "markdown",
   "id": "8de0f698",
   "metadata": {},
   "source": [
    "## macd"
   ]
  },
  {
   "cell_type": "code",
   "execution_count": 31,
   "id": "3eccfda2",
   "metadata": {
    "ExecuteTime": {
     "end_time": "2024-06-17T04:00:40.829442Z",
     "start_time": "2024-06-17T04:00:40.804689Z"
    }
   },
   "outputs": [],
   "source": [
    "macd_idc = pd.read_sql('SELECT * FROM macd_881001_w', engine,index_col='Date')  "
   ]
  },
  {
   "cell_type": "code",
   "execution_count": 32,
   "id": "934c54e0",
   "metadata": {
    "ExecuteTime": {
     "end_time": "2024-06-17T04:00:41.852329Z",
     "start_time": "2024-06-17T04:00:41.846512Z"
    }
   },
   "outputs": [],
   "source": [
    "macd_signal = positional_rule_value(macd_idc,'macd')"
   ]
  },
  {
   "cell_type": "code",
   "execution_count": 83,
   "id": "32870cb4",
   "metadata": {
    "ExecuteTime": {
     "end_time": "2024-06-17T04:03:39.186710Z",
     "start_time": "2024-06-17T04:03:39.094062Z"
    }
   },
   "outputs": [
    {
     "data": {
      "text/plain": [
       "1537"
      ]
     },
     "execution_count": 83,
     "metadata": {},
     "output_type": "execute_result"
    }
   ],
   "source": [
    "macd_signal.to_sql(name='macd',con=engine,if_exists='replace',index=True,index_label='Date')  # 因子值写入sql"
   ]
  },
  {
   "cell_type": "markdown",
   "id": "680dfcbc",
   "metadata": {},
   "source": [
    "## trix"
   ]
  },
  {
   "cell_type": "code",
   "execution_count": 33,
   "id": "52fea04c",
   "metadata": {
    "ExecuteTime": {
     "end_time": "2024-06-17T04:00:43.259733Z",
     "start_time": "2024-06-17T04:00:43.237740Z"
    }
   },
   "outputs": [],
   "source": [
    "trix_idc = pd.read_sql('SELECT * FROM trix_881001_w', engine,index_col='Date')  "
   ]
  },
  {
   "cell_type": "code",
   "execution_count": 34,
   "id": "b8a35c5c",
   "metadata": {
    "ExecuteTime": {
     "end_time": "2024-06-17T04:00:44.519450Z",
     "start_time": "2024-06-17T04:00:44.515406Z"
    }
   },
   "outputs": [],
   "source": [
    "trix_signal = positional_rule_value(trix_idc,'trix_diff')"
   ]
  },
  {
   "cell_type": "code",
   "execution_count": 84,
   "id": "b375c4f7",
   "metadata": {
    "ExecuteTime": {
     "end_time": "2024-06-17T04:03:54.468319Z",
     "start_time": "2024-06-17T04:03:54.380417Z"
    }
   },
   "outputs": [
    {
     "data": {
      "text/plain": [
       "1537"
      ]
     },
     "execution_count": 84,
     "metadata": {},
     "output_type": "execute_result"
    }
   ],
   "source": [
    "trix_signal.to_sql(name='trix',con=engine,if_exists='replace',index=True,index_label='Date')  # 因子值写入sql"
   ]
  },
  {
   "cell_type": "markdown",
   "id": "5bd553de",
   "metadata": {},
   "source": [
    "## bbi"
   ]
  },
  {
   "cell_type": "code",
   "execution_count": 35,
   "id": "b528760a",
   "metadata": {
    "ExecuteTime": {
     "end_time": "2024-06-17T04:00:46.130244Z",
     "start_time": "2024-06-17T04:00:46.091005Z"
    }
   },
   "outputs": [],
   "source": [
    "bbi_idc = pd.read_sql('SELECT * FROM bbi_881001_w', engine,index_col='Date')  "
   ]
  },
  {
   "cell_type": "code",
   "execution_count": 36,
   "id": "a4ccbd3d",
   "metadata": {
    "ExecuteTime": {
     "end_time": "2024-06-17T04:00:47.098486Z",
     "start_time": "2024-06-17T04:00:47.092821Z"
    }
   },
   "outputs": [],
   "source": [
    "df_bbi = pd.merge(left=bbi_idc,right=df_881001_['CLOSE'],left_index=True,right_index=True,how='left')"
   ]
  },
  {
   "cell_type": "code",
   "execution_count": 37,
   "id": "c0ad195b",
   "metadata": {
    "ExecuteTime": {
     "end_time": "2024-06-17T04:00:48.213939Z",
     "start_time": "2024-06-17T04:00:48.209564Z"
    }
   },
   "outputs": [],
   "source": [
    "bbi_signal = positional_rule_reference_line(df_bbi,'bbi','CLOSE')"
   ]
  },
  {
   "cell_type": "code",
   "execution_count": 85,
   "id": "701ae520",
   "metadata": {
    "ExecuteTime": {
     "end_time": "2024-06-17T04:04:02.026109Z",
     "start_time": "2024-06-17T04:04:01.942165Z"
    }
   },
   "outputs": [
    {
     "data": {
      "text/plain": [
       "1537"
      ]
     },
     "execution_count": 85,
     "metadata": {},
     "output_type": "execute_result"
    }
   ],
   "source": [
    "bbi_signal.to_sql(name='bbi',con=engine,if_exists='replace',index=True,index_label='Date')  # 因子值写入sql"
   ]
  },
  {
   "cell_type": "markdown",
   "id": "576fdbba",
   "metadata": {},
   "source": [
    "## bbands"
   ]
  },
  {
   "cell_type": "code",
   "execution_count": 38,
   "id": "28592bf0",
   "metadata": {
    "ExecuteTime": {
     "end_time": "2024-06-17T04:00:50.109927Z",
     "start_time": "2024-06-17T04:00:50.088282Z"
    }
   },
   "outputs": [],
   "source": [
    "bbands_idc = pd.read_sql('SELECT * FROM bbands_881001_w', engine,index_col='Date')  "
   ]
  },
  {
   "cell_type": "code",
   "execution_count": 39,
   "id": "36730ae0",
   "metadata": {
    "ExecuteTime": {
     "end_time": "2024-06-17T04:00:51.096862Z",
     "start_time": "2024-06-17T04:00:51.090875Z"
    }
   },
   "outputs": [],
   "source": [
    "bbands_signal = positional_rule_bands(bbands_idc,'upperband','lowerband','CLOSE')"
   ]
  },
  {
   "cell_type": "code",
   "execution_count": 86,
   "id": "b0d0610d",
   "metadata": {
    "ExecuteTime": {
     "end_time": "2024-06-17T04:04:05.130755Z",
     "start_time": "2024-06-17T04:04:05.049216Z"
    }
   },
   "outputs": [
    {
     "data": {
      "text/plain": [
       "1537"
      ]
     },
     "execution_count": 86,
     "metadata": {},
     "output_type": "execute_result"
    }
   ],
   "source": [
    "bbands_signal.to_sql(name='bbands',con=engine,if_exists='replace',index=True,index_label='Date')  # 因子值写入sql"
   ]
  },
  {
   "cell_type": "markdown",
   "id": "c4537dbd",
   "metadata": {},
   "source": [
    "## bias"
   ]
  },
  {
   "cell_type": "code",
   "execution_count": 40,
   "id": "21cad9a5",
   "metadata": {
    "ExecuteTime": {
     "end_time": "2024-06-17T04:00:52.746087Z",
     "start_time": "2024-06-17T04:00:52.717891Z"
    }
   },
   "outputs": [],
   "source": [
    "bias_idc = pd.read_sql('SELECT * FROM bias_881001_w', engine,index_col='Date')  "
   ]
  },
  {
   "cell_type": "code",
   "execution_count": 41,
   "id": "6b09b78e",
   "metadata": {
    "ExecuteTime": {
     "end_time": "2024-06-17T04:00:53.636445Z",
     "start_time": "2024-06-17T04:00:53.630443Z"
    }
   },
   "outputs": [],
   "source": [
    "bias_signal = positional_rule_value(bias_idc,'bias',value1=20,value2=-20)"
   ]
  },
  {
   "cell_type": "code",
   "execution_count": 87,
   "id": "17261509",
   "metadata": {
    "ExecuteTime": {
     "end_time": "2024-06-17T04:04:07.557284Z",
     "start_time": "2024-06-17T04:04:07.484586Z"
    }
   },
   "outputs": [
    {
     "data": {
      "text/plain": [
       "1537"
      ]
     },
     "execution_count": 87,
     "metadata": {},
     "output_type": "execute_result"
    }
   ],
   "source": [
    "bias_signal.to_sql(name='bias',con=engine,if_exists='replace',index=True,index_label='Date')  # 因子值写入sql"
   ]
  },
  {
   "cell_type": "markdown",
   "id": "e5275cad",
   "metadata": {},
   "source": [
    "## cci"
   ]
  },
  {
   "cell_type": "code",
   "execution_count": 42,
   "id": "dc2cdd26",
   "metadata": {
    "ExecuteTime": {
     "end_time": "2024-06-17T04:00:55.199441Z",
     "start_time": "2024-06-17T04:00:55.175338Z"
    }
   },
   "outputs": [],
   "source": [
    "cci_idc = pd.read_sql('SELECT * FROM cci_881001_w', engine,index_col='Date')  "
   ]
  },
  {
   "cell_type": "code",
   "execution_count": 43,
   "id": "99bc4536",
   "metadata": {
    "ExecuteTime": {
     "end_time": "2024-06-17T04:00:56.182028Z",
     "start_time": "2024-06-17T04:00:56.173585Z"
    }
   },
   "outputs": [],
   "source": [
    "cci_signal = cross_rule(cci_idc,indicator_name='cci',value1=100,value2=-100)"
   ]
  },
  {
   "cell_type": "code",
   "execution_count": 88,
   "id": "48a73b7f",
   "metadata": {
    "ExecuteTime": {
     "end_time": "2024-06-17T04:04:10.424698Z",
     "start_time": "2024-06-17T04:04:10.347499Z"
    }
   },
   "outputs": [
    {
     "data": {
      "text/plain": [
       "1537"
      ]
     },
     "execution_count": 88,
     "metadata": {},
     "output_type": "execute_result"
    }
   ],
   "source": [
    "cci_signal.to_sql(name='cci',con=engine,if_exists='replace',index=True,index_label='Date')  # 因子值写入sql"
   ]
  },
  {
   "cell_type": "markdown",
   "id": "90c9a989",
   "metadata": {},
   "source": [
    "## KDJ"
   ]
  },
  {
   "cell_type": "code",
   "execution_count": 44,
   "id": "f6a6796a",
   "metadata": {
    "ExecuteTime": {
     "end_time": "2024-06-17T04:00:57.771985Z",
     "start_time": "2024-06-17T04:00:57.749586Z"
    }
   },
   "outputs": [],
   "source": [
    "kdj_idc = pd.read_sql('SELECT * FROM kdj_881001_w', engine,index_col='Date')  "
   ]
  },
  {
   "cell_type": "code",
   "execution_count": 45,
   "id": "11aa1bd3",
   "metadata": {
    "ExecuteTime": {
     "end_time": "2024-06-17T04:00:58.729607Z",
     "start_time": "2024-06-17T04:00:58.723695Z"
    },
    "scrolled": true
   },
   "outputs": [],
   "source": [
    "kdj_signal = cross_rule(kdj_idc,isValue=True,ReferenceLine1='slowk',ReferenceLine2='slowd')"
   ]
  },
  {
   "cell_type": "code",
   "execution_count": 89,
   "id": "6d1da290",
   "metadata": {
    "ExecuteTime": {
     "end_time": "2024-06-17T04:04:12.853452Z",
     "start_time": "2024-06-17T04:04:12.771306Z"
    }
   },
   "outputs": [
    {
     "data": {
      "text/plain": [
       "1537"
      ]
     },
     "execution_count": 89,
     "metadata": {},
     "output_type": "execute_result"
    }
   ],
   "source": [
    "kdj_signal.to_sql(name='kdj',con=engine,if_exists='replace',index=True,index_label='Date')  # 因子值写入sql"
   ]
  },
  {
   "cell_type": "markdown",
   "id": "87d3698d",
   "metadata": {},
   "source": [
    "## rsi"
   ]
  },
  {
   "cell_type": "code",
   "execution_count": 46,
   "id": "4e6ac2e1",
   "metadata": {
    "ExecuteTime": {
     "end_time": "2024-06-17T04:01:00.271574Z",
     "start_time": "2024-06-17T04:01:00.240099Z"
    }
   },
   "outputs": [],
   "source": [
    "rsi_idc = pd.read_sql('SELECT * FROM rsi_881001_w', engine,index_col='Date') "
   ]
  },
  {
   "cell_type": "code",
   "execution_count": 47,
   "id": "a196265a",
   "metadata": {
    "ExecuteTime": {
     "end_time": "2024-06-17T04:01:01.196385Z",
     "start_time": "2024-06-17T04:01:01.191614Z"
    }
   },
   "outputs": [],
   "source": [
    "rsi_signal = positional_rule_value(rsi_idc,'rsi',isInverse=True,value1=20,value2=80)"
   ]
  },
  {
   "cell_type": "code",
   "execution_count": 90,
   "id": "c4476826",
   "metadata": {
    "ExecuteTime": {
     "end_time": "2024-06-17T04:04:15.155079Z",
     "start_time": "2024-06-17T04:04:15.047525Z"
    }
   },
   "outputs": [
    {
     "data": {
      "text/plain": [
       "1537"
      ]
     },
     "execution_count": 90,
     "metadata": {},
     "output_type": "execute_result"
    }
   ],
   "source": [
    "rsi_signal.to_sql(name='rsi',con=engine,if_exists='replace',index=True,index_label='Date')  # 因子值写入sql"
   ]
  },
  {
   "cell_type": "markdown",
   "id": "efefb521",
   "metadata": {},
   "source": [
    "## cmo"
   ]
  },
  {
   "cell_type": "code",
   "execution_count": 48,
   "id": "768dfdf2",
   "metadata": {
    "ExecuteTime": {
     "end_time": "2024-06-17T04:01:02.816532Z",
     "start_time": "2024-06-17T04:01:02.781626Z"
    }
   },
   "outputs": [],
   "source": [
    "cmo_idc = pd.read_sql('SELECT * FROM cmo_881001_w', engine,index_col='Date') "
   ]
  },
  {
   "cell_type": "code",
   "execution_count": 49,
   "id": "ca259989",
   "metadata": {
    "ExecuteTime": {
     "end_time": "2024-06-17T04:01:03.763002Z",
     "start_time": "2024-06-17T04:01:03.756740Z"
    }
   },
   "outputs": [],
   "source": [
    "cmo_signal = positional_rule_value(cmo_idc,'cmo',isInverse=True,value1=0,value2=0)"
   ]
  },
  {
   "cell_type": "code",
   "execution_count": 91,
   "id": "caada631",
   "metadata": {
    "ExecuteTime": {
     "end_time": "2024-06-17T04:04:17.626189Z",
     "start_time": "2024-06-17T04:04:17.545943Z"
    }
   },
   "outputs": [
    {
     "data": {
      "text/plain": [
       "1537"
      ]
     },
     "execution_count": 91,
     "metadata": {},
     "output_type": "execute_result"
    }
   ],
   "source": [
    "cmo_signal.to_sql(name='cmo',con=engine,if_exists='replace',index=True,index_label='Date')  # 因子值写入sql"
   ]
  },
  {
   "cell_type": "markdown",
   "id": "75419156",
   "metadata": {},
   "source": [
    "# 宏观因子"
   ]
  },
  {
   "cell_type": "markdown",
   "id": "40244369",
   "metadata": {},
   "source": [
    "## 银行间质押式回购加权利率:7天"
   ]
  },
  {
   "cell_type": "code",
   "execution_count": 50,
   "id": "e91b9ba0",
   "metadata": {
    "ExecuteTime": {
     "end_time": "2024-06-17T04:01:05.354947Z",
     "start_time": "2024-06-17T04:01:05.335068Z"
    }
   },
   "outputs": [],
   "source": [
    "zyhgitt_idc = pd.read_sql('SELECT * FROM zyhgitt_w', engine,index_col='Date') "
   ]
  },
  {
   "cell_type": "code",
   "execution_count": 51,
   "id": "8ee172a4",
   "metadata": {
    "ExecuteTime": {
     "end_time": "2024-06-17T04:01:06.639528Z",
     "start_time": "2024-06-17T04:01:06.635754Z"
    },
    "scrolled": true
   },
   "outputs": [],
   "source": [
    "zyhgitt_signal = mom_rule(zyhgitt_idc,isMTM=False)"
   ]
  },
  {
   "cell_type": "code",
   "execution_count": 92,
   "id": "c8433568",
   "metadata": {
    "ExecuteTime": {
     "end_time": "2024-06-17T04:04:20.034518Z",
     "start_time": "2024-06-17T04:04:19.946894Z"
    }
   },
   "outputs": [
    {
     "data": {
      "text/plain": [
       "1324"
      ]
     },
     "execution_count": 92,
     "metadata": {},
     "output_type": "execute_result"
    }
   ],
   "source": [
    "zyhgitt_signal.to_sql(name='zyhgitt',con=engine,if_exists='replace',index=True,index_label='Date')  # 因子值写入sql"
   ]
  },
  {
   "cell_type": "markdown",
   "id": "85babc0b",
   "metadata": {},
   "source": [
    "## 中长期贷款余额:同比"
   ]
  },
  {
   "cell_type": "code",
   "execution_count": 52,
   "id": "5aae4489",
   "metadata": {
    "ExecuteTime": {
     "end_time": "2024-06-17T04:01:08.079301Z",
     "start_time": "2024-06-17T04:01:08.070269Z"
    }
   },
   "outputs": [],
   "source": [
    "zcqlb_idc = pd.read_sql('SELECT * FROM zcqlb_m', engine,index_col='Date')"
   ]
  },
  {
   "cell_type": "code",
   "execution_count": 53,
   "id": "1a63a66e",
   "metadata": {
    "ExecuteTime": {
     "end_time": "2024-06-17T04:01:09.088469Z",
     "start_time": "2024-06-17T04:01:09.083488Z"
    }
   },
   "outputs": [],
   "source": [
    "zcqlb_signal = mom_rule(zcqlb_idc,isMTM=True)"
   ]
  },
  {
   "cell_type": "code",
   "execution_count": 93,
   "id": "9a036fb2",
   "metadata": {
    "ExecuteTime": {
     "end_time": "2024-06-17T04:04:22.416877Z",
     "start_time": "2024-06-17T04:04:22.344707Z"
    }
   },
   "outputs": [
    {
     "data": {
      "text/plain": [
       "365"
      ]
     },
     "execution_count": 93,
     "metadata": {},
     "output_type": "execute_result"
    }
   ],
   "source": [
    "zcqlb_signal.to_sql(name='zcqlb',con=engine,if_exists='replace',index=True,index_label='Date')  # 因子值写入sql"
   ]
  },
  {
   "cell_type": "markdown",
   "id": "5ced3c51",
   "metadata": {},
   "source": [
    "## 制造业PMI:新出口订单"
   ]
  },
  {
   "cell_type": "code",
   "execution_count": 54,
   "id": "ba9cae0f",
   "metadata": {
    "ExecuteTime": {
     "end_time": "2024-06-17T04:01:10.720878Z",
     "start_time": "2024-06-17T04:01:10.707676Z"
    }
   },
   "outputs": [],
   "source": [
    "xckpmiidy_idc = pd.read_sql('SELECT * FROM xckpmiidy_m', engine,index_col='Date')"
   ]
  },
  {
   "cell_type": "code",
   "execution_count": 55,
   "id": "6f70391a",
   "metadata": {
    "ExecuteTime": {
     "end_time": "2024-06-17T04:01:11.811324Z",
     "start_time": "2024-06-17T04:01:11.807288Z"
    }
   },
   "outputs": [],
   "source": [
    "xckpmiidy_signal = mom_rule(xckpmiidy_idc,isMTM=True)"
   ]
  },
  {
   "cell_type": "code",
   "execution_count": 94,
   "id": "8405d81b",
   "metadata": {
    "ExecuteTime": {
     "end_time": "2024-06-17T04:04:24.772402Z",
     "start_time": "2024-06-17T04:04:24.713682Z"
    }
   },
   "outputs": [
    {
     "data": {
      "text/plain": [
       "233"
      ]
     },
     "execution_count": 94,
     "metadata": {},
     "output_type": "execute_result"
    }
   ],
   "source": [
    "xckpmiidy_signal.to_sql(name='xckpmiidy',con=engine,if_exists='replace',index=True,index_label='Date')  # 因子值写入sql"
   ]
  },
  {
   "cell_type": "markdown",
   "id": "09a7060d",
   "metadata": {},
   "source": [
    "## 社会融资规模存量:同比"
   ]
  },
  {
   "cell_type": "code",
   "execution_count": 56,
   "id": "0e0aa830",
   "metadata": {
    "ExecuteTime": {
     "end_time": "2024-06-17T04:01:13.384746Z",
     "start_time": "2024-06-17T04:01:13.375904Z"
    }
   },
   "outputs": [],
   "source": [
    "srclyoy_idc = pd.read_sql('SELECT * FROM srclyoy_m', engine,index_col='Date')"
   ]
  },
  {
   "cell_type": "code",
   "execution_count": 57,
   "id": "8bdc52cc",
   "metadata": {
    "ExecuteTime": {
     "end_time": "2024-06-17T04:01:14.511196Z",
     "start_time": "2024-06-17T04:01:14.507111Z"
    }
   },
   "outputs": [],
   "source": [
    "srclyoy_signal = mom_rule(srclyoy_idc,isMTM=True)"
   ]
  },
  {
   "cell_type": "code",
   "execution_count": 95,
   "id": "23ab20f9",
   "metadata": {
    "ExecuteTime": {
     "end_time": "2024-06-17T04:04:27.364425Z",
     "start_time": "2024-06-17T04:04:27.300695Z"
    }
   },
   "outputs": [
    {
     "data": {
      "text/plain": [
       "233"
      ]
     },
     "execution_count": 95,
     "metadata": {},
     "output_type": "execute_result"
    }
   ],
   "source": [
    "srclyoy_signal.to_sql(name='srclyoy',con=engine,if_exists='replace',index=True,index_label='Date')  # 因子值写入sql"
   ]
  },
  {
   "cell_type": "markdown",
   "id": "19472d76",
   "metadata": {},
   "source": [
    "## 中美十年国债收益率_差值"
   ]
  },
  {
   "cell_type": "code",
   "execution_count": 58,
   "id": "a076956c",
   "metadata": {
    "ExecuteTime": {
     "end_time": "2024-06-17T04:01:16.085649Z",
     "start_time": "2024-06-17T04:01:16.067167Z"
    }
   },
   "outputs": [],
   "source": [
    "tb10y_diff_idc = pd.read_sql('SELECT * FROM tb10y_diff_w', engine,index_col='Date')"
   ]
  },
  {
   "cell_type": "code",
   "execution_count": 59,
   "id": "e79aa9bf",
   "metadata": {
    "ExecuteTime": {
     "end_time": "2024-06-17T04:01:17.064133Z",
     "start_time": "2024-06-17T04:01:17.058698Z"
    },
    "scrolled": true
   },
   "outputs": [],
   "source": [
    "sma_tb10y_diff = get_sma_idc(tb10y_diff_idc,timeperiod=20)\n",
    "df_tb10y_diff = tb10y_diff_idc.copy()"
   ]
  },
  {
   "cell_type": "code",
   "execution_count": 60,
   "id": "45ed5676",
   "metadata": {
    "ExecuteTime": {
     "end_time": "2024-06-17T04:01:18.355753Z",
     "start_time": "2024-06-17T04:01:18.351509Z"
    }
   },
   "outputs": [],
   "source": [
    "tb10y_diff_signal = positional_rule_reference_line(df_tb10y_diff,indicator_name='sma',reference_line='CLOSE')"
   ]
  },
  {
   "cell_type": "code",
   "execution_count": 96,
   "id": "c51d9284",
   "metadata": {
    "ExecuteTime": {
     "end_time": "2024-06-17T04:04:29.724652Z",
     "start_time": "2024-06-17T04:04:29.640162Z"
    }
   },
   "outputs": [
    {
     "data": {
      "text/plain": [
       "1168"
      ]
     },
     "execution_count": 96,
     "metadata": {},
     "output_type": "execute_result"
    }
   ],
   "source": [
    "tb10y_diff_signal.to_sql(name='tb10y_diff',con=engine,if_exists='replace',index=True,index_label='Date')  # 因子值写入sql"
   ]
  },
  {
   "cell_type": "markdown",
   "id": "292e0d51",
   "metadata": {},
   "source": [
    "## 新成立基金份额"
   ]
  },
  {
   "cell_type": "code",
   "execution_count": 61,
   "id": "716bce3c",
   "metadata": {
    "ExecuteTime": {
     "end_time": "2024-06-17T04:01:22.449728Z",
     "start_time": "2024-06-17T04:01:22.432391Z"
    }
   },
   "outputs": [],
   "source": [
    "nrfs_idc = pd.read_sql('SELECT * FROM nrfs_w', engine,index_col='Date')"
   ]
  },
  {
   "cell_type": "code",
   "execution_count": 62,
   "id": "f76c7953",
   "metadata": {
    "ExecuteTime": {
     "end_time": "2024-06-17T04:01:23.439726Z",
     "start_time": "2024-06-17T04:01:23.434997Z"
    },
    "scrolled": true
   },
   "outputs": [],
   "source": [
    "sma_nrfs = get_sma_idc(nrfs_idc,timeperiod=20)\n",
    "df_nrfs = nrfs_idc.copy()"
   ]
  },
  {
   "cell_type": "code",
   "execution_count": 63,
   "id": "6bffa574",
   "metadata": {
    "ExecuteTime": {
     "end_time": "2024-06-17T04:01:24.678022Z",
     "start_time": "2024-06-17T04:01:24.674261Z"
    }
   },
   "outputs": [],
   "source": [
    "nrfs_signal = positional_rule_reference_line(df_nrfs,indicator_name='sma',reference_line='CLOSE')"
   ]
  },
  {
   "cell_type": "code",
   "execution_count": 97,
   "id": "b3456b12",
   "metadata": {
    "ExecuteTime": {
     "end_time": "2024-06-17T04:04:32.189203Z",
     "start_time": "2024-06-17T04:04:32.113752Z"
    }
   },
   "outputs": [
    {
     "data": {
      "text/plain": [
       "1205"
      ]
     },
     "execution_count": 97,
     "metadata": {},
     "output_type": "execute_result"
    }
   ],
   "source": [
    "nrfs_signal.to_sql(name='nrfs',con=engine,if_exists='replace',index=True,index_label='Date')  # 因子值写入sql"
   ]
  },
  {
   "cell_type": "markdown",
   "id": "3ba2b341",
   "metadata": {},
   "source": [
    "## 股债性价比"
   ]
  },
  {
   "cell_type": "code",
   "execution_count": 64,
   "id": "04e5f7c6",
   "metadata": {
    "ExecuteTime": {
     "end_time": "2024-06-17T04:01:26.362080Z",
     "start_time": "2024-06-17T04:01:26.344088Z"
    }
   },
   "outputs": [],
   "source": [
    "tb10y_ttm_idc = pd.read_sql('SELECT * FROM tb10ymttm_w', engine,index_col='Date')"
   ]
  },
  {
   "cell_type": "code",
   "execution_count": 65,
   "id": "e054a029",
   "metadata": {
    "ExecuteTime": {
     "end_time": "2024-06-17T04:01:27.380296Z",
     "start_time": "2024-06-17T04:01:27.371466Z"
    }
   },
   "outputs": [],
   "source": [
    "tb10y_ttm_idc['lowerband'] = tb10y_ttm_idc['CLOSE'].rolling(52).mean() - 2 * (tb10y_ttm_idc['CLOSE'].rolling(52).std())\n",
    "tb10y_ttm_idc['upperband'] = tb10y_ttm_idc['CLOSE']*2\n",
    "df_tb10y_ttm = tb10y_ttm_idc.copy()"
   ]
  },
  {
   "cell_type": "code",
   "execution_count": 66,
   "id": "39fe43f3",
   "metadata": {
    "ExecuteTime": {
     "end_time": "2024-06-17T04:01:29.522663Z",
     "start_time": "2024-06-17T04:01:29.518654Z"
    }
   },
   "outputs": [],
   "source": [
    "tb10y_ttm_signal = positional_rule_bands(df_tb10y_ttm,upperband='lowerband',lowerband='lowerband',reference_line='CLOSE',isMTM=False)"
   ]
  },
  {
   "cell_type": "code",
   "execution_count": 98,
   "id": "7c70b08b",
   "metadata": {
    "ExecuteTime": {
     "end_time": "2024-06-17T04:04:34.723872Z",
     "start_time": "2024-06-17T04:04:34.662490Z"
    }
   },
   "outputs": [
    {
     "data": {
      "text/plain": [
       "1169"
      ]
     },
     "execution_count": 98,
     "metadata": {},
     "output_type": "execute_result"
    }
   ],
   "source": [
    "tb10y_ttm_signal.to_sql(name='tb10y_ttm',con=engine,if_exists='replace',index=True,index_label='Date')  # 因子值写入sql"
   ]
  },
  {
   "cell_type": "markdown",
   "id": "61d5ceea",
   "metadata": {},
   "source": [
    "# 情绪指标"
   ]
  },
  {
   "cell_type": "markdown",
   "id": "0dea594c",
   "metadata": {},
   "source": [
    "## rzmr"
   ]
  },
  {
   "cell_type": "code",
   "execution_count": 67,
   "id": "b3ac1e89",
   "metadata": {
    "ExecuteTime": {
     "end_time": "2024-06-17T04:01:31.287401Z",
     "start_time": "2024-06-17T04:01:31.263920Z"
    }
   },
   "outputs": [],
   "source": [
    "bbands_rzmr_idc = pd.read_sql('SELECT * FROM bbands_rzmr_w', engine,index_col='Date')"
   ]
  },
  {
   "cell_type": "code",
   "execution_count": 68,
   "id": "46ddcca6",
   "metadata": {
    "ExecuteTime": {
     "end_time": "2024-06-17T04:01:32.298179Z",
     "start_time": "2024-06-17T04:01:32.293760Z"
    }
   },
   "outputs": [],
   "source": [
    "bbands_rzmr_signal = positional_rule_bands(bbands_rzmr_idc,'upperband','lowerband','CLOSE')"
   ]
  },
  {
   "cell_type": "code",
   "execution_count": 99,
   "id": "841cb110",
   "metadata": {
    "ExecuteTime": {
     "end_time": "2024-06-17T04:04:38.042495Z",
     "start_time": "2024-06-17T04:04:37.973605Z"
    }
   },
   "outputs": [
    {
     "data": {
      "text/plain": [
       "739"
      ]
     },
     "execution_count": 99,
     "metadata": {},
     "output_type": "execute_result"
    }
   ],
   "source": [
    "bbands_rzmr_signal.to_sql(name='bbands_rzmr',con=engine,if_exists='replace',index=True,index_label='Date')  # 因子值写入sql"
   ]
  },
  {
   "cell_type": "markdown",
   "id": "331e36b8",
   "metadata": {},
   "source": [
    "## ic_cfe"
   ]
  },
  {
   "cell_type": "code",
   "execution_count": 69,
   "id": "07f56faa",
   "metadata": {
    "ExecuteTime": {
     "end_time": "2024-06-17T04:01:33.884835Z",
     "start_time": "2024-06-17T04:01:33.870252Z"
    }
   },
   "outputs": [],
   "source": [
    "bbands_iccfe_idc = pd.read_sql('SELECT * FROM bbands_iccfe_w', engine,index_col='Date')"
   ]
  },
  {
   "cell_type": "code",
   "execution_count": 70,
   "id": "8a5d2864",
   "metadata": {
    "ExecuteTime": {
     "end_time": "2024-06-17T04:01:35.013320Z",
     "start_time": "2024-06-17T04:01:35.006945Z"
    }
   },
   "outputs": [],
   "source": [
    "bbands_iccfe_signal = positional_rule_bands(bbands_iccfe_idc,'upperband','lowerband','CLOSE')"
   ]
  },
  {
   "cell_type": "code",
   "execution_count": 100,
   "id": "2c63c1d0",
   "metadata": {
    "ExecuteTime": {
     "end_time": "2024-06-17T04:04:40.437771Z",
     "start_time": "2024-06-17T04:04:40.386040Z"
    }
   },
   "outputs": [
    {
     "data": {
      "text/plain": [
       "476"
      ]
     },
     "execution_count": 100,
     "metadata": {},
     "output_type": "execute_result"
    }
   ],
   "source": [
    "bbands_iccfe_signal.to_sql(name='bbands_iccfe',con=engine,if_exists='replace',index=True,index_label='Date')  # 因子值写入sql"
   ]
  },
  {
   "cell_type": "markdown",
   "id": "be4b22be",
   "metadata": {},
   "source": [
    "## if_cfe"
   ]
  },
  {
   "cell_type": "code",
   "execution_count": 71,
   "id": "ae1b65f9",
   "metadata": {
    "ExecuteTime": {
     "end_time": "2024-06-17T04:01:36.660737Z",
     "start_time": "2024-06-17T04:01:36.643988Z"
    }
   },
   "outputs": [],
   "source": [
    "bbands_ifcfe_idc = pd.read_sql('SELECT * FROM bbands_ifcfe_w', engine,index_col='Date')"
   ]
  },
  {
   "cell_type": "code",
   "execution_count": 72,
   "id": "fe3e0c5b",
   "metadata": {
    "ExecuteTime": {
     "end_time": "2024-06-17T04:01:37.613873Z",
     "start_time": "2024-06-17T04:01:37.609376Z"
    }
   },
   "outputs": [],
   "source": [
    "bbands_ifcfe_signal = positional_rule_bands(bbands_ifcfe_idc,'upperband','lowerband','CLOSE')"
   ]
  },
  {
   "cell_type": "code",
   "execution_count": 101,
   "id": "2d24f52e",
   "metadata": {
    "ExecuteTime": {
     "end_time": "2024-06-17T04:04:42.747036Z",
     "start_time": "2024-06-17T04:04:42.678216Z"
    }
   },
   "outputs": [
    {
     "data": {
      "text/plain": [
       "737"
      ]
     },
     "execution_count": 101,
     "metadata": {},
     "output_type": "execute_result"
    }
   ],
   "source": [
    "bbands_ifcfe_signal.to_sql(name='bbands_ifcfe',con=engine,if_exists='replace',index=True,index_label='Date')  # 因子值写入sql"
   ]
  },
  {
   "cell_type": "markdown",
   "id": "1d77e8b9",
   "metadata": {},
   "source": [
    "## vol"
   ]
  },
  {
   "cell_type": "code",
   "execution_count": 73,
   "id": "30bddc86",
   "metadata": {
    "ExecuteTime": {
     "end_time": "2024-06-17T04:01:39.152127Z",
     "start_time": "2024-06-17T04:01:39.138231Z"
    }
   },
   "outputs": [],
   "source": [
    "volumeratio_idc = pd.read_sql('SELECT * FROM volumeratio_w', engine,index_col='Date')"
   ]
  },
  {
   "cell_type": "code",
   "execution_count": 74,
   "id": "bc183dbb",
   "metadata": {
    "ExecuteTime": {
     "end_time": "2024-06-17T04:01:40.072598Z",
     "start_time": "2024-06-17T04:01:40.061239Z"
    }
   },
   "outputs": [],
   "source": [
    "volumeratio_signal = consecutive_days_rule(volumeratio_idc,'volumeratio_')"
   ]
  },
  {
   "cell_type": "code",
   "execution_count": 102,
   "id": "9849fc31",
   "metadata": {
    "ExecuteTime": {
     "end_time": "2024-06-17T04:04:45.100172Z",
     "start_time": "2024-06-17T04:04:45.035988Z"
    }
   },
   "outputs": [
    {
     "data": {
      "text/plain": [
       "486"
      ]
     },
     "execution_count": 102,
     "metadata": {},
     "output_type": "execute_result"
    }
   ],
   "source": [
    "volumeratio_signal.to_sql(name='volumeratio',con=engine,if_exists='replace',index=True,index_label='Date')  # 因子值写入sql"
   ]
  },
  {
   "cell_type": "markdown",
   "id": "e9b39804",
   "metadata": {},
   "source": [
    "## oi"
   ]
  },
  {
   "cell_type": "code",
   "execution_count": 75,
   "id": "ff1d7176",
   "metadata": {
    "ExecuteTime": {
     "end_time": "2024-06-17T04:01:41.597829Z",
     "start_time": "2024-06-17T04:01:41.590543Z"
    }
   },
   "outputs": [],
   "source": [
    "oiratio_idc = pd.read_sql('SELECT * FROM oiratio_m', engine,index_col='Date')"
   ]
  },
  {
   "cell_type": "code",
   "execution_count": 76,
   "id": "31ae2dae",
   "metadata": {
    "ExecuteTime": {
     "end_time": "2024-06-17T04:01:42.663255Z",
     "start_time": "2024-06-17T04:01:42.656790Z"
    }
   },
   "outputs": [],
   "source": [
    "oiratio_signal = yoy_mtm_rule(oiratio_idc,'oiratio')"
   ]
  },
  {
   "cell_type": "code",
   "execution_count": 103,
   "id": "37a31aae",
   "metadata": {
    "ExecuteTime": {
     "end_time": "2024-06-17T04:04:47.613928Z",
     "start_time": "2024-06-17T04:04:47.566971Z"
    }
   },
   "outputs": [
    {
     "data": {
      "text/plain": [
       "112"
      ]
     },
     "execution_count": 103,
     "metadata": {},
     "output_type": "execute_result"
    }
   ],
   "source": [
    "oiratio_signal.to_sql(name='oiratio',con=engine,if_exists='replace',index=True,index_label='Date')  # 因子值写入sql"
   ]
  }
 ],
 "metadata": {
  "kernelspec": {
   "display_name": "Python 3 (ipykernel)",
   "language": "python",
   "name": "python3"
  },
  "language_info": {
   "codemirror_mode": {
    "name": "ipython",
    "version": 3
   },
   "file_extension": ".py",
   "mimetype": "text/x-python",
   "name": "python",
   "nbconvert_exporter": "python",
   "pygments_lexer": "ipython3",
   "version": "3.11.5"
  },
  "toc": {
   "base_numbering": 1,
   "nav_menu": {},
   "number_sections": true,
   "sideBar": true,
   "skip_h1_title": false,
   "title_cell": "Table of Contents",
   "title_sidebar": "Contents",
   "toc_cell": false,
   "toc_position": {
    "height": "calc(100% - 180px)",
    "left": "10px",
    "top": "150px",
    "width": "220px"
   },
   "toc_section_display": true,
   "toc_window_display": false
  }
 },
 "nbformat": 4,
 "nbformat_minor": 5
}
