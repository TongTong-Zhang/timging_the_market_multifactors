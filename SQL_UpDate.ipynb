{
 "cells": [
  {
   "cell_type": "code",
   "execution_count": 1,
   "id": "14467686",
   "metadata": {
    "ExecuteTime": {
     "end_time": "2024-06-17T03:30:27.562594Z",
     "start_time": "2024-06-17T03:30:27.542753Z"
    }
   },
   "outputs": [],
   "source": [
    "def day_to_week(df,isrolling=True,rollinig_period = 20,keywords='CLOSE'):\n",
    "    \"\"\"\n",
    "    周度数据，高频变低频，均值-前值填充\n",
    "    \"\"\"\n",
    "    if isrolling==True:\n",
    "        df['rolling'] = df[keywords].rolling(rollinig_period).mean() \n",
    "    else:\n",
    "        df = df\n",
    "    df.index = pd.to_datetime(df.index)\n",
    "    df_ = df.resample('W-SUN').last().ffill().dropna()  # resample用前最邻近值\n",
    "    return df_"
   ]
  },
  {
   "cell_type": "code",
   "execution_count": 2,
   "id": "5cd82099",
   "metadata": {
    "ExecuteTime": {
     "end_time": "2024-06-17T03:30:27.580131Z",
     "start_time": "2024-06-17T03:30:27.567608Z"
    }
   },
   "outputs": [],
   "source": [
    "def month_to_week(df):\n",
    "    \"\"\"\n",
    "    down resample 由于直接resample会导致数据确实，需要先根据已有index，使用date_range创建新的index；\n",
    "    其中，pd.offsets.monthbegin和pd.offsets.monthend用来获得月初月末日期\n",
    "    \"\"\"\n",
    "    first_date = inx2.index.min()  # 第一天\n",
    "    start_of_month = first_date - pd.offsets.MonthBegin(1)  # 月初\n",
    "    if first_date != start_of_month:\n",
    "        df = df.reindex(pd.date_range(start=start_of_month, end=df.index.max(), freq='W-MON'))  # 用新的datetimeindex作index\n",
    "        df.bfill(inplace=True)\n",
    "    return df"
   ]
  },
  {
   "cell_type": "code",
   "execution_count": 3,
   "id": "06c7edf9",
   "metadata": {
    "ExecuteTime": {
     "end_time": "2024-06-17T03:30:27.590088Z",
     "start_time": "2024-06-17T03:30:27.583179Z"
    }
   },
   "outputs": [],
   "source": [
    "def get_roc_idc(df,timeperiod=10):\n",
    "    df['roc'] = ta.ROC(df['CLOSE'].values, timeperiod)\n",
    "    return df['roc']"
   ]
  },
  {
   "cell_type": "code",
   "execution_count": 4,
   "id": "7a8855f9",
   "metadata": {
    "ExecuteTime": {
     "end_time": "2024-06-17T03:30:27.601189Z",
     "start_time": "2024-06-17T03:30:27.594099Z"
    }
   },
   "outputs": [],
   "source": [
    "def get_sma_idc(df, timeperiod=20):\n",
    "    df['sma'] = ta.SMA(df['CLOSE'].values, timeperiod)\n",
    "    return df['sma']"
   ]
  },
  {
   "cell_type": "code",
   "execution_count": 5,
   "id": "11d922f5",
   "metadata": {
    "ExecuteTime": {
     "end_time": "2024-06-17T03:30:27.609494Z",
     "start_time": "2024-06-17T03:30:27.604342Z"
    }
   },
   "outputs": [],
   "source": [
    "def get_dma_idc(df,short_tp=10,long_tp=20):\n",
    "    short_ma = ta.SMA(df['CLOSE'].values, short_tp)\n",
    "    long_ma = ta.SMA(df['CLOSE'].values, long_tp)\n",
    "    df['dma'] = short_ma - long_ma\n",
    "    return df['dma']"
   ]
  },
  {
   "cell_type": "code",
   "execution_count": 6,
   "id": "be1fc260",
   "metadata": {
    "ExecuteTime": {
     "end_time": "2024-06-17T03:30:27.619047Z",
     "start_time": "2024-06-17T03:30:27.612841Z"
    }
   },
   "outputs": [],
   "source": [
    "def get_ama_idc(df,short_tp=10,long_tp=50):\n",
    "    short_ma = ta.SMA(df['CLOSE'].values, short_tp)\n",
    "    long_ma = ta.SMA(df['CLOSE'].values, long_tp)\n",
    "    df['dma'] = short_ma - long_ma\n",
    "    df['ama'] = df['dma'].rolling(10).mean()\n",
    "    return df['ama']"
   ]
  },
  {
   "cell_type": "code",
   "execution_count": 7,
   "id": "cffe2f11",
   "metadata": {
    "ExecuteTime": {
     "end_time": "2024-06-17T03:30:27.628906Z",
     "start_time": "2024-06-17T03:30:27.622483Z"
    }
   },
   "outputs": [],
   "source": [
    "def get_macd_idc(df,fastperiod=12, slowperiod=26, signalperiod=9):\n",
    "    df['macd'] = ta.MACD(df['CLOSE'].values, fastperiod,slowperiod,signalperiod)[0]  # DEA是signal,ta.MACD返回三个值\n",
    "    return df['macd']"
   ]
  },
  {
   "cell_type": "code",
   "execution_count": 8,
   "id": "b9106326",
   "metadata": {
    "ExecuteTime": {
     "end_time": "2024-06-17T03:30:27.639701Z",
     "start_time": "2024-06-17T03:30:27.631910Z"
    }
   },
   "outputs": [],
   "source": [
    "def get_trix_idc(df,timeperiod=12,signalperiod=9):\n",
    "    trix = pd.Series(ta.TRIX(df['CLOSE'].values, timeperiod))\n",
    "    matrix = trix.rolling(signalperiod).mean()  # rolling 包含当日\n",
    "    df['trix_diff'] = (trix - matrix).values  # series to df 要用pd.调用方法，nparray可以直接放进去\n",
    "    return df['trix_diff']"
   ]
  },
  {
   "cell_type": "code",
   "execution_count": 9,
   "id": "6b0a2f7c",
   "metadata": {
    "ExecuteTime": {
     "end_time": "2024-06-17T03:30:27.648322Z",
     "start_time": "2024-06-17T03:30:27.643704Z"
    }
   },
   "outputs": [],
   "source": [
    "def get_bbi_idc(df,tp1=3,tp2=6,tp3=12,tp4=24):\n",
    "    bbi_n1 = ta.SMA(df['CLOSE'].values, timeperiod=tp1)\n",
    "    bbi_n2 = ta.SMA(df['CLOSE'].values, timeperiod=tp2)\n",
    "    bbi_n3 = ta.SMA(df['CLOSE'].values, timeperiod=tp3)\n",
    "    bbi_n4 = ta.SMA(df['CLOSE'].values, timeperiod=tp4)\n",
    "    df['bbi'] = (bbi_n1 + bbi_n2 + bbi_n3 + bbi_n4) / 4\n",
    "    return df['bbi']"
   ]
  },
  {
   "cell_type": "code",
   "execution_count": 10,
   "id": "367dabe1",
   "metadata": {
    "ExecuteTime": {
     "end_time": "2024-06-17T03:30:27.658923Z",
     "start_time": "2024-06-17T03:30:27.653325Z"
    }
   },
   "outputs": [],
   "source": [
    "# bbands和其他指标获取区别在于，bbands保留了close数据，因为在后续获得信号时，bbands需要close\n",
    "def get_bbands_idc(df,timeperiod=20, nbdevup=2, nbdevdn=2):\n",
    "    df['upperband'], middleband, df['lowerband'] = ta.BBANDS(df['CLOSE'].values, timeperiod, nbdevup, nbdevdn, matype=0)\n",
    "    return df[['CLOSE','upperband','lowerband']]"
   ]
  },
  {
   "cell_type": "code",
   "execution_count": 11,
   "id": "91b59662",
   "metadata": {
    "ExecuteTime": {
     "end_time": "2024-06-17T03:30:27.666256Z",
     "start_time": "2024-06-17T03:30:27.661339Z"
    }
   },
   "outputs": [],
   "source": [
    "def get_bias_idc(df,timeperiod=10):\n",
    "    sma = ta.SMA(df['CLOSE'].values, timeperiod)\n",
    "    df['bias'] = (df['CLOSE'] - sma) / sma * 100\n",
    "    return df['bias']"
   ]
  },
  {
   "cell_type": "code",
   "execution_count": 12,
   "id": "18158727",
   "metadata": {
    "ExecuteTime": {
     "end_time": "2024-06-17T03:30:27.673028Z",
     "start_time": "2024-06-17T03:30:27.668690Z"
    }
   },
   "outputs": [],
   "source": [
    "def get_cci_idc(df,timeperiod=14):\n",
    "    df['cci'] = ta.CCI(df['CLOSE'].values, df['CLOSE'].values, df['CLOSE'].values, timeperiod)\n",
    "    return df['cci']"
   ]
  },
  {
   "cell_type": "code",
   "execution_count": 13,
   "id": "9bd04a70",
   "metadata": {
    "ExecuteTime": {
     "end_time": "2024-06-17T03:30:27.685915Z",
     "start_time": "2024-06-17T03:30:27.674241Z"
    }
   },
   "outputs": [],
   "source": [
    "def get_kdj_idc(df,fastk_period=9, slowk_period=3, slowd_period=3):\n",
    "    \n",
    "    def sma_csdn(close, timeperiod):\n",
    "        close = np.nan_to_num(close)\n",
    "        return reduce(lambda x, y: ((timeperiod - 1) * x + y) / timeperiod, close, timeperiod)\n",
    "\n",
    "    def stock_csdn(high, low, close, fastk_period, slowk_period, slowd_period):\n",
    "        kValue, dValue = ta.STOCHF(high, low, close, fastk_period, fastd_period=1, fastd_matype=0)\n",
    "\n",
    "        kValue = np.array(list(map(lambda x: sma_csdn(kValue[:x], slowk_period), range(1, len(kValue) + 1))))\n",
    "        dValue = np.array(list(map(lambda x: sma_csdn(kValue[:x], slowd_period), range(1, len(dValue) + 1))))\n",
    "        jValue = 3 * kValue - 2 * dValue\n",
    "\n",
    "        func = lambda arr: np.array([0 if x < 0 else (100 if x > 100 else x) for x in arr])\n",
    "\n",
    "        kValue = func(kValue)\n",
    "        dValue = func(dValue)\n",
    "        jValue = func(jValue)\n",
    "        return kValue, dValue\n",
    "    \n",
    "    # 通过STOCK获取K和D\n",
    "    df['slowk'], df['slowd'] = stock_csdn(df['HIGH'].values, df['LOW'].values, df['CLOSE'].values, fastk_period, slowk_period, slowd_period)\n",
    "    # 获取J，这里没有用到\n",
    "    list_slowj= list(map(lambda x, y: 3 * x - 2 * y, df['slowk'], df['slowd']))\n",
    "    return df[['slowk','slowd']]"
   ]
  },
  {
   "cell_type": "code",
   "execution_count": 14,
   "id": "ef34f0b7",
   "metadata": {
    "ExecuteTime": {
     "end_time": "2024-06-17T03:30:27.693189Z",
     "start_time": "2024-06-17T03:30:27.688315Z"
    }
   },
   "outputs": [],
   "source": [
    "def get_rsi_idc(df, timeperiod=6):\n",
    "    df['rsi'] = ta.RSI(df['CLOSE'], timeperiod=6)\n",
    "    return df['rsi']"
   ]
  },
  {
   "cell_type": "code",
   "execution_count": 15,
   "id": "b60b0fd3",
   "metadata": {
    "ExecuteTime": {
     "end_time": "2024-06-17T03:30:27.699306Z",
     "start_time": "2024-06-17T03:30:27.695289Z"
    }
   },
   "outputs": [],
   "source": [
    "def get_cmo_idc(df,timeperiod=12):\n",
    "    df['cmo'] = ta.CMO(df['CLOSE'], timeperiod)\n",
    "    return df['cmo']"
   ]
  },
  {
   "cell_type": "code",
   "execution_count": 16,
   "id": "dbd3894a",
   "metadata": {
    "ExecuteTime": {
     "end_time": "2024-06-17T03:30:37.491888Z",
     "start_time": "2024-06-17T03:30:34.009215Z"
    }
   },
   "outputs": [
    {
     "name": "stdout",
     "output_type": "stream",
     "text": [
      "Welcome to use Wind Quant API for Python (WindPy)!\n",
      "\n",
      "COPYRIGHT (C) 2020 WIND INFORMATION CO., LTD. ALL RIGHTS RESERVED.\n",
      "IN NO CIRCUMSTANCE SHALL WIND BE RESPONSIBLE FOR ANY DAMAGES OR LOSSES CAUSED BY USING WIND QUANT API FOR Python.\n"
     ]
    }
   ],
   "source": [
    "import pandas as pd\n",
    "import numpy as np\n",
    "\n",
    "import os\n",
    "from WindPy import w\n",
    "import datetime\n",
    "import talib as ta\n",
    "from functools import reduce\n",
    "from sqlalchemy import create_engine\n",
    "\n",
    "\n",
    "\n",
    "_ = w.start()\n",
    "\n",
    "pd.set_option('display.max_columns', None)\n",
    "pd.set_option('display.max_rows', None)"
   ]
  },
  {
   "cell_type": "markdown",
   "id": "ceb27c75",
   "metadata": {},
   "source": [
    "# MetaData Update"
   ]
  },
  {
   "cell_type": "code",
   "execution_count": 45,
   "id": "33a7e2af",
   "metadata": {
    "ExecuteTime": {
     "end_time": "2024-06-17T03:45:56.049253Z",
     "start_time": "2024-06-17T03:45:56.043986Z"
    }
   },
   "outputs": [],
   "source": [
    "start_date='2024-06-10'  # 周一\n",
    "start_date_='2024-06-07'  # start_date前一个工作日，用于提取wind全A时收益率计算\n",
    "start_date_monthly = '2024-04-30'  # 月频数据，需要上上个月月末日期，只有一个月末没有日期序列\n",
    "end_date='2024-06-16'  # 周日"
   ]
  },
  {
   "cell_type": "code",
   "execution_count": 18,
   "id": "be4c0d40",
   "metadata": {
    "ExecuteTime": {
     "end_time": "2024-06-17T03:32:08.093078Z",
     "start_time": "2024-06-17T03:32:07.867914Z"
    }
   },
   "outputs": [],
   "source": [
    "engine = create_engine(\"mysql+pymysql://root:@localhost:3306/meta_data?charset=utf8mb4\")"
   ]
  },
  {
   "cell_type": "code",
   "execution_count": 59,
   "id": "63d40bd8",
   "metadata": {
    "ExecuteTime": {
     "end_time": "2024-06-17T03:48:35.531309Z",
     "start_time": "2024-06-17T03:48:35.418500Z"
    }
   },
   "outputs": [],
   "source": [
    "df_881001 = pd.read_sql('SELECT Date,HIGH,LOW,CLOSE FROM 881001_wi', engine,index_col='Date')  # 从meta_data提取数据\n",
    "df_881001_ = day_to_week(df_881001,isrolling=False)"
   ]
  },
  {
   "cell_type": "markdown",
   "id": "a7ce58ce",
   "metadata": {},
   "source": [
    "## 宏观因子"
   ]
  },
  {
   "cell_type": "code",
   "execution_count": 10,
   "id": "c3962831",
   "metadata": {
    "ExecuteTime": {
     "end_time": "2024-06-03T01:13:40.387152Z",
     "start_time": "2024-06-03T01:13:40.382076Z"
    }
   },
   "outputs": [
    {
     "name": "stdout",
     "output_type": "stream",
     "text": [
      "***************************************************************************************************\n"
     ]
    }
   ],
   "source": [
    "print('***'*33)"
   ]
  },
  {
   "cell_type": "code",
   "execution_count": 19,
   "id": "846b9e79",
   "metadata": {
    "ExecuteTime": {
     "end_time": "2024-06-17T03:32:44.030011Z",
     "start_time": "2024-06-17T03:32:43.953615Z"
    }
   },
   "outputs": [
    {
     "data": {
      "text/plain": [
       "4"
      ]
     },
     "execution_count": 19,
     "metadata": {},
     "output_type": "execute_result"
    }
   ],
   "source": [
    "error_code, inx1 = w.edb(\"M0041653\",start_date,end_date,\"Fill=Previous\", usedf=True)\n",
    "inx1.to_sql(name=\"zyhgitt\",con=engine,if_exists='append',index=True,index_label='Date')"
   ]
  },
  {
   "cell_type": "code",
   "execution_count": 34,
   "id": "7fb52319",
   "metadata": {
    "ExecuteTime": {
     "end_time": "2024-06-17T03:37:53.190592Z",
     "start_time": "2024-06-17T03:37:53.106472Z"
    }
   },
   "outputs": [
    {
     "data": {
      "text/plain": [
       "2"
      ]
     },
     "execution_count": 34,
     "metadata": {},
     "output_type": "execute_result"
    }
   ],
   "source": [
    "# 需要两个月，然后drop duplicate，否则没有日期\n",
    "error_code, inx2 = w.edb(\"M0043418\", start_date_monthly,end_date, \"Fill=Previous\", usedf=True)\n",
    "inx2.to_sql(name=\"zcqlb\",con=engine,if_exists='append',index=True,index_label='Date')"
   ]
  },
  {
   "cell_type": "code",
   "execution_count": 35,
   "id": "57e43f1f",
   "metadata": {
    "ExecuteTime": {
     "end_time": "2024-06-17T03:38:29.299742Z",
     "start_time": "2024-06-17T03:38:29.244164Z"
    }
   },
   "outputs": [
    {
     "data": {
      "text/plain": [
       "2"
      ]
     },
     "execution_count": 35,
     "metadata": {},
     "output_type": "execute_result"
    }
   ],
   "source": [
    "error_code, inx3 = w.edb(\"M0017129\", start_date_monthly,end_date, \"Fill=Previous\", usedf=True)\n",
    "inx3.to_sql(name=\"xckpmiidy\",con=engine,if_exists='append',index=True,index_label='Date')"
   ]
  },
  {
   "cell_type": "code",
   "execution_count": 36,
   "id": "868a6d71",
   "metadata": {
    "ExecuteTime": {
     "end_time": "2024-06-17T03:40:34.857064Z",
     "start_time": "2024-06-17T03:40:34.399332Z"
    }
   },
   "outputs": [
    {
     "data": {
      "text/plain": [
       "233"
      ]
     },
     "execution_count": 36,
     "metadata": {},
     "output_type": "execute_result"
    }
   ],
   "source": [
    "path = os.path.join(os.getcwd(), 'db')\n",
    "inx4 = pd.read_excel('{}/中国社会融资规模存量同比.xlsx'.format(path), index_col=0, parse_dates=True,names=['CLOSE'])\n",
    "inx4.to_sql(name=\"srclyoy\",con=engine,if_exists='replace',index=True,index_label='Date')"
   ]
  },
  {
   "cell_type": "code",
   "execution_count": 37,
   "id": "43b923ff",
   "metadata": {
    "ExecuteTime": {
     "end_time": "2024-06-17T03:41:05.395774Z",
     "start_time": "2024-06-17T03:41:05.337998Z"
    }
   },
   "outputs": [
    {
     "data": {
      "text/plain": [
       "5"
      ]
     },
     "execution_count": 37,
     "metadata": {},
     "output_type": "execute_result"
    }
   ],
   "source": [
    "error_code, inx5 = w.edb(\"S0059749,G0000891\",start_date,end_date, \"Fill=Previous\", usedf=True)  # sq：中国，美国\n",
    "inx5.to_sql(name=\"tb10y\",con=engine,if_exists='append',index=True,index_label='Date')"
   ]
  },
  {
   "cell_type": "code",
   "execution_count": 38,
   "id": "4cc1f57c",
   "metadata": {
    "ExecuteTime": {
     "end_time": "2024-06-17T03:41:17.653383Z",
     "start_time": "2024-06-17T03:41:17.591361Z"
    }
   },
   "outputs": [
    {
     "data": {
      "text/plain": [
       "3"
      ]
     },
     "execution_count": 38,
     "metadata": {},
     "output_type": "execute_result"
    }
   ],
   "source": [
    "error_code, inx6 = w.edb(\"M0060433\", start_date,end_date, \"Fill=Previous\", usedf=True)\n",
    "inx6.to_sql(name=\"nrfs\",con=engine,if_exists='append',index=True,index_label='Date')"
   ]
  },
  {
   "cell_type": "code",
   "execution_count": 39,
   "id": "9ddaaa7c",
   "metadata": {
    "ExecuteTime": {
     "end_time": "2024-06-17T03:41:48.995564Z",
     "start_time": "2024-06-17T03:41:48.940965Z"
    }
   },
   "outputs": [
    {
     "data": {
      "text/plain": [
       "7"
      ]
     },
     "execution_count": 39,
     "metadata": {},
     "output_type": "execute_result"
    }
   ],
   "source": [
    "error_code, inx7 = w.edb(\"M1000166,M0330161\",start_date,end_date, \"Fill=Previous\", usedf=True)  # sq：中债国债，TTM\n",
    "inx7.to_sql(name=\"tb10y_ttm\",con=engine,if_exists='append',index=True,index_label='Date')"
   ]
  },
  {
   "cell_type": "markdown",
   "id": "4c7568dc",
   "metadata": {},
   "source": [
    "## 技术指标"
   ]
  },
  {
   "cell_type": "code",
   "execution_count": 9,
   "id": "a06d5c6b",
   "metadata": {
    "ExecuteTime": {
     "end_time": "2024-06-03T01:59:13.405191Z",
     "start_time": "2024-06-03T01:59:13.402534Z"
    }
   },
   "outputs": [
    {
     "name": "stdout",
     "output_type": "stream",
     "text": [
      "***************************************************************************************************\n"
     ]
    }
   ],
   "source": [
    "print('***'*33)"
   ]
  },
  {
   "cell_type": "code",
   "execution_count": 42,
   "id": "dcf79d21",
   "metadata": {
    "ExecuteTime": {
     "end_time": "2024-06-17T03:44:16.512293Z",
     "start_time": "2024-06-17T03:44:16.459337Z"
    }
   },
   "outputs": [
    {
     "data": {
      "text/plain": [
       "5"
      ]
     },
     "execution_count": 42,
     "metadata": {},
     "output_type": "execute_result"
    }
   ],
   "source": [
    "error_code, nv_index_e = w.wsd(\"881001.WI\", \"open,high,low,close\", start_date_,end_date, usedf=True)\n",
    "nv_index_e['ret'] = nv_index_e['CLOSE'].pct_change(1)\n",
    "nv_index_e\n",
    "nv_index_e.to_sql(name='881001_wi',con=engine,if_exists='append',index=True,index_label='Date')"
   ]
  },
  {
   "cell_type": "code",
   "execution_count": 43,
   "id": "2f9eeca2",
   "metadata": {
    "ExecuteTime": {
     "end_time": "2024-06-17T03:44:28.018645Z",
     "start_time": "2024-06-17T03:44:27.951860Z"
    }
   },
   "outputs": [
    {
     "data": {
      "text/plain": [
       "5"
      ]
     },
     "execution_count": 43,
     "metadata": {},
     "output_type": "execute_result"
    }
   ],
   "source": [
    "erro_code, nv_index_b = w.wsd(\"CBA00101.CS\", \"close\",start_date_,end_date, usedf=True)\n",
    "nv_index_b['ret'] = nv_index_b['CLOSE'].pct_change(1)\n",
    "nv_index_b\n",
    "nv_index_b.to_sql(name='cba00101_cs',con=engine,if_exists='append',index=True,index_label='Date')"
   ]
  },
  {
   "cell_type": "markdown",
   "id": "eda95bec",
   "metadata": {},
   "source": [
    "## 情绪指标"
   ]
  },
  {
   "cell_type": "code",
   "execution_count": 15,
   "id": "d4de137d",
   "metadata": {
    "ExecuteTime": {
     "end_time": "2024-06-03T02:04:10.280489Z",
     "start_time": "2024-06-03T02:04:10.277203Z"
    }
   },
   "outputs": [
    {
     "name": "stdout",
     "output_type": "stream",
     "text": [
      "***************************************************************************************************\n"
     ]
    }
   ],
   "source": [
    "print('***'*33)"
   ]
  },
  {
   "cell_type": "code",
   "execution_count": 44,
   "id": "3e69632f",
   "metadata": {
    "ExecuteTime": {
     "end_time": "2024-06-17T03:45:22.636454Z",
     "start_time": "2024-06-17T03:45:22.360199Z"
    }
   },
   "outputs": [
    {
     "data": {
      "text/plain": [
       "7"
      ]
     },
     "execution_count": 44,
     "metadata": {},
     "output_type": "execute_result"
    }
   ],
   "source": [
    "errorcode, rqmr_df = w.edb(\"M0075987\",start_date,end_date, \"Days=Alldays;Fill=Previous\", usedf=True)  # start_date is 2010-03-31\n",
    "rqmr_df.to_sql(name='rzmr',con=engine,if_exists='append',index=True,index_label='Date')"
   ]
  },
  {
   "cell_type": "code",
   "execution_count": 46,
   "id": "b364965a",
   "metadata": {
    "ExecuteTime": {
     "end_time": "2024-06-17T03:46:24.317938Z",
     "start_time": "2024-06-17T03:46:24.268181Z"
    }
   },
   "outputs": [
    {
     "data": {
      "text/plain": [
       "7"
      ]
     },
     "execution_count": 46,
     "metadata": {},
     "output_type": "execute_result"
    }
   ],
   "source": [
    "errorcode, ic_cfe = w.wsd(\"IC.CFE\", \"anal_basisannualyield\",start_date,end_date, \"Days=Alldays;Fill=Previous\",usedf=True) \n",
    "ic_cfe.to_sql(name='ic_cfe',con=engine,if_exists='append',index=True,index_label='Date')"
   ]
  },
  {
   "cell_type": "code",
   "execution_count": 47,
   "id": "ce8c9cce",
   "metadata": {
    "ExecuteTime": {
     "end_time": "2024-06-17T03:46:38.722216Z",
     "start_time": "2024-06-17T03:46:38.676084Z"
    }
   },
   "outputs": [
    {
     "data": {
      "text/plain": [
       "7"
      ]
     },
     "execution_count": 47,
     "metadata": {},
     "output_type": "execute_result"
    }
   ],
   "source": [
    "errorcode, if_cfe = w.wsd(\"IF.CFE\", \"anal_basisannualyield\",start_date,end_date, \"Days=Alldays;Fill=Previous\",usedf=True)  \n",
    "if_cfe.to_sql(name='if_cfe',con=engine,if_exists='append',index=True,index_label='Date')"
   ]
  },
  {
   "cell_type": "code",
   "execution_count": 48,
   "id": "f09e7dda",
   "metadata": {
    "ExecuteTime": {
     "end_time": "2024-06-17T03:47:02.532712Z",
     "start_time": "2024-06-17T03:47:02.495433Z"
    }
   },
   "outputs": [
    {
     "data": {
      "text/plain": [
       "7"
      ]
     },
     "execution_count": 48,
     "metadata": {},
     "output_type": "execute_result"
    }
   ],
   "source": [
    "errorcode, vol_df = w.wsd(\"510050.SH\", \"putvolume,callvolume\", start_date,end_date,\"unit=1;Days=Alldays;Fill=Previous\",usedf=True)  \n",
    "vol_df.to_sql(name='vol',con=engine,if_exists='append',index=True,index_label='Date')"
   ]
  },
  {
   "cell_type": "code",
   "execution_count": 49,
   "id": "ab82eba7",
   "metadata": {
    "ExecuteTime": {
     "end_time": "2024-06-17T03:47:15.046725Z",
     "start_time": "2024-06-17T03:47:14.940769Z"
    }
   },
   "outputs": [
    {
     "data": {
      "text/plain": [
       "7"
      ]
     },
     "execution_count": 49,
     "metadata": {},
     "output_type": "execute_result"
    }
   ],
   "source": [
    "errorcode, oi_df = w.wsd(\"510050.SH\", \"calloi,putoi\",start_date,end_date, \"unit=1;Days=Alldays;Fill=Previous\",usedf=True) \n",
    "oi_df.to_sql(name='oi',con=engine,if_exists='append',index=True,index_label='Date')"
   ]
  },
  {
   "cell_type": "markdown",
   "id": "971676ec",
   "metadata": {},
   "source": [
    "# FactorPool_Update"
   ]
  },
  {
   "cell_type": "markdown",
   "id": "2718019b",
   "metadata": {},
   "source": [
    "- 如果是每周一更新，那数据正好截至到上周日，不需要额外处理"
   ]
  },
  {
   "cell_type": "code",
   "execution_count": 89,
   "id": "13cb2626",
   "metadata": {
    "ExecuteTime": {
     "end_time": "2024-06-17T03:51:56.121238Z",
     "start_time": "2024-06-17T03:51:56.117508Z"
    }
   },
   "outputs": [],
   "source": [
    "engine = create_engine(\"mysql+pymysql://root:@localhost:3306/meta_data?charset=utf8mb4\")"
   ]
  },
  {
   "cell_type": "code",
   "execution_count": 91,
   "id": "eb1a674d",
   "metadata": {
    "ExecuteTime": {
     "end_time": "2024-06-17T03:52:04.253176Z",
     "start_time": "2024-06-17T03:52:04.249487Z"
    }
   },
   "outputs": [],
   "source": [
    "engine = create_engine(\"mysql+pymysql://root:@localhost:3306/factors_pool?charset=utf8mb4\")"
   ]
  },
  {
   "cell_type": "markdown",
   "id": "c9789841",
   "metadata": {
    "ExecuteTime": {
     "end_time": "2024-06-03T02:15:59.006483Z",
     "start_time": "2024-06-03T02:15:59.003025Z"
    }
   },
   "source": [
    "#### 银行间质押式回购加权利率:7天"
   ]
  },
  {
   "cell_type": "code",
   "execution_count": 51,
   "id": "1d0d2542",
   "metadata": {
    "ExecuteTime": {
     "end_time": "2024-06-17T03:48:06.559716Z",
     "start_time": "2024-06-17T03:48:06.467993Z"
    }
   },
   "outputs": [],
   "source": [
    "inx1 = pd.read_sql('SELECT * FROM zyhgitt', engine,index_col='Date')  # 从meta_data提取数据\n",
    "inx1_ = pd.DataFrame(day_to_week(inx1).loc[:,'rolling'])  # 获取因子值\n",
    "inx1_.rename(columns={'rolling':'CLOSE'},inplace=True)"
   ]
  },
  {
   "cell_type": "code",
   "execution_count": 84,
   "id": "12adaf19",
   "metadata": {
    "ExecuteTime": {
     "end_time": "2024-06-17T03:49:53.654030Z",
     "start_time": "2024-06-17T03:49:53.545669Z"
    }
   },
   "outputs": [
    {
     "data": {
      "text/plain": [
       "1324"
      ]
     },
     "execution_count": 84,
     "metadata": {},
     "output_type": "execute_result"
    }
   ],
   "source": [
    "inx1_.to_sql(name='zyhgitt_w',con=engine,if_exists='replace',index=True,index_label='Date')  # 因子值写入sql"
   ]
  },
  {
   "cell_type": "markdown",
   "id": "341fd847",
   "metadata": {
    "ExecuteTime": {
     "end_time": "2024-06-03T02:29:33.192389Z",
     "start_time": "2024-06-03T02:29:33.189115Z"
    }
   },
   "source": [
    "#### 中长期贷款余额:同比"
   ]
  },
  {
   "cell_type": "code",
   "execution_count": 52,
   "id": "1428df96",
   "metadata": {
    "ExecuteTime": {
     "end_time": "2024-06-17T03:48:09.083092Z",
     "start_time": "2024-06-17T03:48:09.065258Z"
    }
   },
   "outputs": [],
   "source": [
    "inx2 = pd.read_sql('SELECT * FROM zcqlb',engine,index_col='Date')\n",
    "inx2['CLOSE'] = (inx2['CLOSE'] - inx2['CLOSE'].shift(12)) / inx2['CLOSE'].shift(12) * 100"
   ]
  },
  {
   "cell_type": "code",
   "execution_count": 85,
   "id": "f9795d26",
   "metadata": {
    "ExecuteTime": {
     "end_time": "2024-06-17T03:50:20.071254Z",
     "start_time": "2024-06-17T03:50:20.023577Z"
    }
   },
   "outputs": [
    {
     "data": {
      "text/plain": [
       "365"
      ]
     },
     "execution_count": 85,
     "metadata": {},
     "output_type": "execute_result"
    }
   ],
   "source": [
    "inx2.to_sql(name='zcqlb_m',con=engine,if_exists='replace',index=True,index_label='Date')  # 因子值写入sql"
   ]
  },
  {
   "cell_type": "markdown",
   "id": "e237ceeb",
   "metadata": {},
   "source": [
    "#### 制造业PMI:新出口订单"
   ]
  },
  {
   "cell_type": "code",
   "execution_count": 53,
   "id": "48b94f6c",
   "metadata": {
    "ExecuteTime": {
     "end_time": "2024-06-17T03:48:11.372241Z",
     "start_time": "2024-06-17T03:48:11.364315Z"
    }
   },
   "outputs": [],
   "source": [
    "inx3 = pd.read_sql('SELECT * FROM xckpmiidy', engine,index_col='Date')"
   ]
  },
  {
   "cell_type": "code",
   "execution_count": 86,
   "id": "af5651d5",
   "metadata": {
    "ExecuteTime": {
     "end_time": "2024-06-17T03:50:46.610837Z",
     "start_time": "2024-06-17T03:50:46.561926Z"
    }
   },
   "outputs": [
    {
     "data": {
      "text/plain": [
       "233"
      ]
     },
     "execution_count": 86,
     "metadata": {},
     "output_type": "execute_result"
    }
   ],
   "source": [
    "inx3.to_sql(name='xckpmiidy_m',con=engine,if_exists='replace',index=True,index_label='Date')  # 因子值写入sql"
   ]
  },
  {
   "cell_type": "markdown",
   "id": "357571e3",
   "metadata": {},
   "source": [
    "#### 社会融资规模存量:同比"
   ]
  },
  {
   "cell_type": "code",
   "execution_count": 54,
   "id": "1f605998",
   "metadata": {
    "ExecuteTime": {
     "end_time": "2024-06-17T03:48:13.581250Z",
     "start_time": "2024-06-17T03:48:13.572454Z"
    }
   },
   "outputs": [],
   "source": [
    "inx4 = pd.read_sql('SELECT * FROM srclyoy', engine,index_col='Date')"
   ]
  },
  {
   "cell_type": "code",
   "execution_count": 87,
   "id": "6a89b3dc",
   "metadata": {
    "ExecuteTime": {
     "end_time": "2024-06-17T03:51:02.112066Z",
     "start_time": "2024-06-17T03:51:02.061194Z"
    }
   },
   "outputs": [
    {
     "data": {
      "text/plain": [
       "233"
      ]
     },
     "execution_count": 87,
     "metadata": {},
     "output_type": "execute_result"
    }
   ],
   "source": [
    "inx4.to_sql(name='srclyoy_m',con=engine,if_exists='replace',index=True,index_label='Date')  # 因子值写入sql"
   ]
  },
  {
   "cell_type": "markdown",
   "id": "929e328f",
   "metadata": {},
   "source": [
    "#### 中美十年国债收益率_差值"
   ]
  },
  {
   "cell_type": "code",
   "execution_count": 90,
   "id": "4f9dfa98",
   "metadata": {
    "ExecuteTime": {
     "end_time": "2024-06-17T03:52:00.930747Z",
     "start_time": "2024-06-17T03:52:00.825288Z"
    }
   },
   "outputs": [],
   "source": [
    "inx5 = pd.read_sql('SELECT * FROM tb10y', engine,index_col='Date')\n",
    "inx5['DIFF'] = inx5['S0059749'] - inx5['G0000891']\n",
    "inx5_ = pd.DataFrame(day_to_week(inx5,keywords='DIFF').loc[:,'rolling'])\n",
    "inx5_.rename(columns={'rolling':'CLOSE'},inplace=True)"
   ]
  },
  {
   "cell_type": "code",
   "execution_count": 92,
   "id": "0b6357bb",
   "metadata": {
    "ExecuteTime": {
     "end_time": "2024-06-17T03:52:07.627765Z",
     "start_time": "2024-06-17T03:52:07.524966Z"
    }
   },
   "outputs": [
    {
     "data": {
      "text/plain": [
       "1168"
      ]
     },
     "execution_count": 92,
     "metadata": {},
     "output_type": "execute_result"
    }
   ],
   "source": [
    "inx5_.to_sql(name='tb10y_diff_w',con=engine,if_exists='replace',index=True,index_label='Date')  # 因子值写入sql"
   ]
  },
  {
   "cell_type": "markdown",
   "id": "0834797a",
   "metadata": {},
   "source": [
    "#### 新成立基金份额"
   ]
  },
  {
   "cell_type": "code",
   "execution_count": 56,
   "id": "d0f4cf47",
   "metadata": {
    "ExecuteTime": {
     "end_time": "2024-06-17T03:48:17.182245Z",
     "start_time": "2024-06-17T03:48:17.135276Z"
    }
   },
   "outputs": [],
   "source": [
    "inx6 = pd.read_sql('SELECT * FROM nrfs', engine,index_col='Date')  # 日频数据，但20050101之前数据质量差，已清洗\n",
    "inx6_ = pd.DataFrame(day_to_week(inx6).loc[:,'rolling'])\n",
    "inx6_.rename(columns={'rolling':'CLOSE'},inplace=True)"
   ]
  },
  {
   "cell_type": "code",
   "execution_count": 93,
   "id": "94ed3bf4",
   "metadata": {
    "ExecuteTime": {
     "end_time": "2024-06-17T03:53:18.186846Z",
     "start_time": "2024-06-17T03:53:18.101882Z"
    }
   },
   "outputs": [
    {
     "data": {
      "text/plain": [
       "1205"
      ]
     },
     "execution_count": 93,
     "metadata": {},
     "output_type": "execute_result"
    }
   ],
   "source": [
    "inx6_.to_sql(name='nrfs_w',con=engine,if_exists='replace',index=True,index_label='Date')  # 因子值写入sql"
   ]
  },
  {
   "cell_type": "markdown",
   "id": "69db6ee3",
   "metadata": {},
   "source": [
    "#### 股债性价比"
   ]
  },
  {
   "cell_type": "code",
   "execution_count": 57,
   "id": "437392ce",
   "metadata": {
    "ExecuteTime": {
     "end_time": "2024-06-17T03:48:18.716679Z",
     "start_time": "2024-06-17T03:48:18.605212Z"
    }
   },
   "outputs": [],
   "source": [
    "inx7 = pd.read_sql('SELECT * FROM tb10y_ttm', engine,index_col='Date')\n",
    "inx7['DIFF'] = inx7['M1000166'] - 1 / inx7['M0330161']\n",
    "inx7_ = pd.DataFrame(day_to_week(inx7,keywords='DIFF').loc[:,'rolling'])\n",
    "inx7_.rename(columns={'rolling':'CLOSE'},inplace=True)"
   ]
  },
  {
   "cell_type": "code",
   "execution_count": 94,
   "id": "8184c156",
   "metadata": {
    "ExecuteTime": {
     "end_time": "2024-06-17T03:53:27.136321Z",
     "start_time": "2024-06-17T03:53:27.052189Z"
    }
   },
   "outputs": [
    {
     "data": {
      "text/plain": [
       "1169"
      ]
     },
     "execution_count": 94,
     "metadata": {},
     "output_type": "execute_result"
    }
   ],
   "source": [
    "inx7_.to_sql(name='tb10ymttm_w',con=engine,if_exists='replace',index=True,index_label='Date')  # 因子值写入sql"
   ]
  },
  {
   "cell_type": "markdown",
   "id": "8272475c",
   "metadata": {},
   "source": [
    "#### roc"
   ]
  },
  {
   "cell_type": "code",
   "execution_count": 61,
   "id": "6252c354",
   "metadata": {
    "ExecuteTime": {
     "end_time": "2024-06-17T03:48:54.140415Z",
     "start_time": "2024-06-17T03:48:54.135788Z"
    }
   },
   "outputs": [],
   "source": [
    "roc_idc = get_roc_idc(df_881001_)"
   ]
  },
  {
   "cell_type": "code",
   "execution_count": 95,
   "id": "5de23430",
   "metadata": {
    "ExecuteTime": {
     "end_time": "2024-06-17T03:56:03.249524Z",
     "start_time": "2024-06-17T03:56:03.167431Z"
    }
   },
   "outputs": [
    {
     "data": {
      "text/plain": [
       "1537"
      ]
     },
     "execution_count": 95,
     "metadata": {},
     "output_type": "execute_result"
    }
   ],
   "source": [
    "roc_idc.to_sql(name='roc_881001_w',con=engine,if_exists='replace',index=True,index_label='Date')  # 因子值写入sql"
   ]
  },
  {
   "cell_type": "markdown",
   "id": "7f3a6914",
   "metadata": {},
   "source": [
    "#### sma"
   ]
  },
  {
   "cell_type": "code",
   "execution_count": 62,
   "id": "fb7b8204",
   "metadata": {
    "ExecuteTime": {
     "end_time": "2024-06-17T03:48:56.114800Z",
     "start_time": "2024-06-17T03:48:56.109202Z"
    }
   },
   "outputs": [],
   "source": [
    "sma_idc = get_sma_idc(df_881001_)"
   ]
  },
  {
   "cell_type": "code",
   "execution_count": 96,
   "id": "2cfd63fb",
   "metadata": {
    "ExecuteTime": {
     "end_time": "2024-06-17T03:56:17.942961Z",
     "start_time": "2024-06-17T03:56:17.840307Z"
    }
   },
   "outputs": [
    {
     "data": {
      "text/plain": [
       "1537"
      ]
     },
     "execution_count": 96,
     "metadata": {},
     "output_type": "execute_result"
    }
   ],
   "source": [
    "sma_idc.to_sql(name='sma_881001_w',con=engine,if_exists='replace',index=True,index_label='Date')  # 因子值写入sql"
   ]
  },
  {
   "cell_type": "markdown",
   "id": "ccf106aa",
   "metadata": {},
   "source": [
    "#### dma"
   ]
  },
  {
   "cell_type": "code",
   "execution_count": 63,
   "id": "85d651fc",
   "metadata": {
    "ExecuteTime": {
     "end_time": "2024-06-17T03:48:57.690943Z",
     "start_time": "2024-06-17T03:48:57.688159Z"
    }
   },
   "outputs": [],
   "source": [
    "dma_idc = get_dma_idc(df_881001_)"
   ]
  },
  {
   "cell_type": "code",
   "execution_count": 97,
   "id": "e5ab85e2",
   "metadata": {
    "ExecuteTime": {
     "end_time": "2024-06-17T03:56:27.218102Z",
     "start_time": "2024-06-17T03:56:27.131033Z"
    }
   },
   "outputs": [
    {
     "data": {
      "text/plain": [
       "1537"
      ]
     },
     "execution_count": 97,
     "metadata": {},
     "output_type": "execute_result"
    }
   ],
   "source": [
    "dma_idc.to_sql(name='dma_881001_w',con=engine,if_exists='replace',index=True,index_label='Date')  # 因子值写入sql"
   ]
  },
  {
   "cell_type": "markdown",
   "id": "fc586569",
   "metadata": {},
   "source": [
    "#### ama"
   ]
  },
  {
   "cell_type": "code",
   "execution_count": 64,
   "id": "43ec3753",
   "metadata": {
    "ExecuteTime": {
     "end_time": "2024-06-17T03:48:58.901038Z",
     "start_time": "2024-06-17T03:48:58.895528Z"
    }
   },
   "outputs": [],
   "source": [
    "ama_idc = get_ama_idc(df_881001_)"
   ]
  },
  {
   "cell_type": "code",
   "execution_count": 98,
   "id": "c3abd491",
   "metadata": {
    "ExecuteTime": {
     "end_time": "2024-06-17T03:56:29.806367Z",
     "start_time": "2024-06-17T03:56:29.715015Z"
    }
   },
   "outputs": [
    {
     "data": {
      "text/plain": [
       "1537"
      ]
     },
     "execution_count": 98,
     "metadata": {},
     "output_type": "execute_result"
    }
   ],
   "source": [
    "ama_idc.to_sql(name='ama_881001_w',con=engine,if_exists='replace',index=True,index_label='Date')  # 因子值写入sql"
   ]
  },
  {
   "cell_type": "markdown",
   "id": "005b93de",
   "metadata": {},
   "source": [
    "#### macd"
   ]
  },
  {
   "cell_type": "code",
   "execution_count": 65,
   "id": "598a2bd7",
   "metadata": {
    "ExecuteTime": {
     "end_time": "2024-06-17T03:49:00.460579Z",
     "start_time": "2024-06-17T03:49:00.456566Z"
    }
   },
   "outputs": [],
   "source": [
    "macd_idc = get_macd_idc(df_881001_)"
   ]
  },
  {
   "cell_type": "code",
   "execution_count": 99,
   "id": "bfcf98ab",
   "metadata": {
    "ExecuteTime": {
     "end_time": "2024-06-17T03:56:31.808546Z",
     "start_time": "2024-06-17T03:56:31.702089Z"
    }
   },
   "outputs": [
    {
     "data": {
      "text/plain": [
       "1537"
      ]
     },
     "execution_count": 99,
     "metadata": {},
     "output_type": "execute_result"
    }
   ],
   "source": [
    "macd_idc.to_sql(name='macd_881001_w',con=engine,if_exists='replace',index=True,index_label='Date')  # 因子值写入sql"
   ]
  },
  {
   "cell_type": "markdown",
   "id": "744ef582",
   "metadata": {},
   "source": [
    "#### trix"
   ]
  },
  {
   "cell_type": "code",
   "execution_count": 66,
   "id": "56e9ca11",
   "metadata": {
    "ExecuteTime": {
     "end_time": "2024-06-17T03:49:02.016627Z",
     "start_time": "2024-06-17T03:49:02.011535Z"
    }
   },
   "outputs": [],
   "source": [
    "trix_idc = get_trix_idc(df_881001_)"
   ]
  },
  {
   "cell_type": "code",
   "execution_count": 100,
   "id": "93670516",
   "metadata": {
    "ExecuteTime": {
     "end_time": "2024-06-17T03:56:33.736891Z",
     "start_time": "2024-06-17T03:56:33.645194Z"
    }
   },
   "outputs": [
    {
     "data": {
      "text/plain": [
       "1537"
      ]
     },
     "execution_count": 100,
     "metadata": {},
     "output_type": "execute_result"
    }
   ],
   "source": [
    "trix_idc.to_sql(name='trix_881001_w',con=engine,if_exists='replace',index=True,index_label='Date')  # 因子值写入sql"
   ]
  },
  {
   "cell_type": "markdown",
   "id": "638c6d56",
   "metadata": {},
   "source": [
    "#### bbi"
   ]
  },
  {
   "cell_type": "code",
   "execution_count": 67,
   "id": "b677f372",
   "metadata": {
    "ExecuteTime": {
     "end_time": "2024-06-17T03:49:03.695346Z",
     "start_time": "2024-06-17T03:49:03.690768Z"
    }
   },
   "outputs": [],
   "source": [
    "bbi_idc = get_bbi_idc(df_881001_)"
   ]
  },
  {
   "cell_type": "code",
   "execution_count": 101,
   "id": "7a5ccdd8",
   "metadata": {
    "ExecuteTime": {
     "end_time": "2024-06-17T03:56:35.367218Z",
     "start_time": "2024-06-17T03:56:35.270781Z"
    }
   },
   "outputs": [
    {
     "data": {
      "text/plain": [
       "1537"
      ]
     },
     "execution_count": 101,
     "metadata": {},
     "output_type": "execute_result"
    }
   ],
   "source": [
    "bbi_idc.to_sql(name='bbi_881001_w',con=engine,if_exists='replace',index=True,index_label='Date')  # 因子值写入sql"
   ]
  },
  {
   "cell_type": "markdown",
   "id": "df3d0a66",
   "metadata": {},
   "source": [
    "#### bbands"
   ]
  },
  {
   "cell_type": "code",
   "execution_count": 68,
   "id": "c2e10774",
   "metadata": {
    "ExecuteTime": {
     "end_time": "2024-06-17T03:49:05.513753Z",
     "start_time": "2024-06-17T03:49:05.507811Z"
    }
   },
   "outputs": [],
   "source": [
    "bbands_idc = get_bbands_idc(df_881001_)"
   ]
  },
  {
   "cell_type": "code",
   "execution_count": 102,
   "id": "a144570f",
   "metadata": {
    "ExecuteTime": {
     "end_time": "2024-06-17T03:56:37.123358Z",
     "start_time": "2024-06-17T03:56:37.020550Z"
    }
   },
   "outputs": [
    {
     "data": {
      "text/plain": [
       "1537"
      ]
     },
     "execution_count": 102,
     "metadata": {},
     "output_type": "execute_result"
    }
   ],
   "source": [
    "bbands_idc.to_sql(name='bbands_881001_w',con=engine,if_exists='replace',index=True,index_label='Date')  # 因子值写入sql"
   ]
  },
  {
   "cell_type": "markdown",
   "id": "321d92cf",
   "metadata": {
    "ExecuteTime": {
     "end_time": "2024-06-03T03:11:48.050851Z",
     "start_time": "2024-06-03T03:11:48.048097Z"
    }
   },
   "source": [
    "#### bias"
   ]
  },
  {
   "cell_type": "code",
   "execution_count": 69,
   "id": "1bb9e25e",
   "metadata": {
    "ExecuteTime": {
     "end_time": "2024-06-17T03:49:07.202708Z",
     "start_time": "2024-06-17T03:49:07.199762Z"
    }
   },
   "outputs": [],
   "source": [
    "biac_idc = get_bias_idc(df_881001_)"
   ]
  },
  {
   "cell_type": "code",
   "execution_count": 103,
   "id": "9321ba02",
   "metadata": {
    "ExecuteTime": {
     "end_time": "2024-06-17T03:56:38.688003Z",
     "start_time": "2024-06-17T03:56:38.595723Z"
    }
   },
   "outputs": [
    {
     "data": {
      "text/plain": [
       "1537"
      ]
     },
     "execution_count": 103,
     "metadata": {},
     "output_type": "execute_result"
    }
   ],
   "source": [
    "biac_idc.to_sql(name='bias_881001_w',con=engine,if_exists='replace',index=True,index_label='Date')  # 因子值写入sql"
   ]
  },
  {
   "cell_type": "markdown",
   "id": "b82908f2",
   "metadata": {},
   "source": [
    "#### cci"
   ]
  },
  {
   "cell_type": "code",
   "execution_count": 70,
   "id": "04dc59b6",
   "metadata": {
    "ExecuteTime": {
     "end_time": "2024-06-17T03:49:08.642579Z",
     "start_time": "2024-06-17T03:49:08.639328Z"
    }
   },
   "outputs": [],
   "source": [
    "cci_idc = get_cci_idc(df_881001_)"
   ]
  },
  {
   "cell_type": "code",
   "execution_count": 104,
   "id": "5f985f60",
   "metadata": {
    "ExecuteTime": {
     "end_time": "2024-06-17T03:56:40.295651Z",
     "start_time": "2024-06-17T03:56:40.207774Z"
    }
   },
   "outputs": [
    {
     "data": {
      "text/plain": [
       "1537"
      ]
     },
     "execution_count": 104,
     "metadata": {},
     "output_type": "execute_result"
    }
   ],
   "source": [
    "cci_idc.to_sql(name='cci_881001_w',con=engine,if_exists='replace',index=True,index_label='Date')  # 因子值写入sql"
   ]
  },
  {
   "cell_type": "markdown",
   "id": "dedd46e2",
   "metadata": {},
   "source": [
    "#### KDJ"
   ]
  },
  {
   "cell_type": "code",
   "execution_count": 71,
   "id": "e6656796",
   "metadata": {
    "ExecuteTime": {
     "end_time": "2024-06-17T03:49:10.845298Z",
     "start_time": "2024-06-17T03:49:10.183499Z"
    }
   },
   "outputs": [],
   "source": [
    "kd_idc = get_kdj_idc(df_881001_)"
   ]
  },
  {
   "cell_type": "code",
   "execution_count": 105,
   "id": "1b366835",
   "metadata": {
    "ExecuteTime": {
     "end_time": "2024-06-17T03:56:41.791021Z",
     "start_time": "2024-06-17T03:56:41.699794Z"
    }
   },
   "outputs": [
    {
     "data": {
      "text/plain": [
       "1537"
      ]
     },
     "execution_count": 105,
     "metadata": {},
     "output_type": "execute_result"
    }
   ],
   "source": [
    "kd_idc.to_sql(name='kdj_881001_w',con=engine,if_exists='replace',index=True,index_label='Date')  # 因子值写入sql"
   ]
  },
  {
   "cell_type": "markdown",
   "id": "de9c0e3e",
   "metadata": {},
   "source": [
    "#### rsi"
   ]
  },
  {
   "cell_type": "code",
   "execution_count": 72,
   "id": "3eb70c93",
   "metadata": {
    "ExecuteTime": {
     "end_time": "2024-06-17T03:49:11.773008Z",
     "start_time": "2024-06-17T03:49:11.770015Z"
    }
   },
   "outputs": [],
   "source": [
    "rsi_idc = get_rsi_idc(df_881001_)"
   ]
  },
  {
   "cell_type": "code",
   "execution_count": 106,
   "id": "2765bc60",
   "metadata": {
    "ExecuteTime": {
     "end_time": "2024-06-17T03:56:43.222409Z",
     "start_time": "2024-06-17T03:56:43.151124Z"
    }
   },
   "outputs": [
    {
     "data": {
      "text/plain": [
       "1537"
      ]
     },
     "execution_count": 106,
     "metadata": {},
     "output_type": "execute_result"
    }
   ],
   "source": [
    "rsi_idc.to_sql(name='rsi_881001_w',con=engine,if_exists='replace',index=True,index_label='Date')  # 因子值写入sql"
   ]
  },
  {
   "cell_type": "markdown",
   "id": "3ffc6731",
   "metadata": {},
   "source": [
    "#### cmo"
   ]
  },
  {
   "cell_type": "code",
   "execution_count": 73,
   "id": "9625abd8",
   "metadata": {
    "ExecuteTime": {
     "end_time": "2024-06-17T03:49:13.461845Z",
     "start_time": "2024-06-17T03:49:13.458213Z"
    }
   },
   "outputs": [],
   "source": [
    "cmo_idc = get_cmo_idc(df_881001_)"
   ]
  },
  {
   "cell_type": "code",
   "execution_count": 107,
   "id": "541219cd",
   "metadata": {
    "ExecuteTime": {
     "end_time": "2024-06-17T03:56:44.564212Z",
     "start_time": "2024-06-17T03:56:44.483460Z"
    }
   },
   "outputs": [
    {
     "data": {
      "text/plain": [
       "1537"
      ]
     },
     "execution_count": 107,
     "metadata": {},
     "output_type": "execute_result"
    }
   ],
   "source": [
    "cmo_idc.to_sql(name='cmo_881001_w',con=engine,if_exists='replace',index=True,index_label='Date')  # 因子值写入sql"
   ]
  },
  {
   "cell_type": "markdown",
   "id": "d6f204ea",
   "metadata": {},
   "source": [
    "#### rzmr"
   ]
  },
  {
   "cell_type": "code",
   "execution_count": 74,
   "id": "c769a0c9",
   "metadata": {
    "ExecuteTime": {
     "end_time": "2024-06-17T03:49:17.569092Z",
     "start_time": "2024-06-17T03:49:17.504684Z"
    }
   },
   "outputs": [],
   "source": [
    "df_rzmr = pd.read_sql('SELECT * FROM rzmr', engine,index_col='Date')  # 从meta_data提取数据\n",
    "df_rzmr_ = day_to_week(df_rzmr,isrolling=True)\n",
    "df_rzmr_['CLOSE'] = df_rzmr_['rolling']-df_rzmr_['rolling'].shift(1)  # rzmr数据处理"
   ]
  },
  {
   "cell_type": "code",
   "execution_count": 75,
   "id": "813ce706",
   "metadata": {
    "ExecuteTime": {
     "end_time": "2024-06-17T03:49:19.050184Z",
     "start_time": "2024-06-17T03:49:19.044257Z"
    }
   },
   "outputs": [],
   "source": [
    "bbands_idc_rzmr = get_bbands_idc(df_rzmr_,nbdevup=1.5, nbdevdn=1.5)  # 获取indicator"
   ]
  },
  {
   "cell_type": "code",
   "execution_count": 108,
   "id": "4b61f94d",
   "metadata": {
    "ExecuteTime": {
     "end_time": "2024-06-17T03:56:46.185040Z",
     "start_time": "2024-06-17T03:56:46.122006Z"
    }
   },
   "outputs": [
    {
     "data": {
      "text/plain": [
       "739"
      ]
     },
     "execution_count": 108,
     "metadata": {},
     "output_type": "execute_result"
    }
   ],
   "source": [
    "bbands_idc_rzmr.to_sql(name='bbands_rzmr_w',con=engine,if_exists='replace',index=True,index_label='Date')  # 因子值写入sql"
   ]
  },
  {
   "cell_type": "markdown",
   "id": "020927b1",
   "metadata": {},
   "source": [
    "#### ic_cfe"
   ]
  },
  {
   "cell_type": "code",
   "execution_count": 76,
   "id": "3ac6feb9",
   "metadata": {
    "ExecuteTime": {
     "end_time": "2024-06-17T03:49:20.652180Z",
     "start_time": "2024-06-17T03:49:20.600921Z"
    }
   },
   "outputs": [],
   "source": [
    "df_ic_cfe = pd.read_sql('SELECT * FROM ic_cfe', engine,index_col='Date')  # 从meta_data提取数据\n",
    "df_ic_cfe.rename(columns={'ANAL_BASISANNUALYIELD':'CLOSE'},inplace=True)\n",
    "df_ic_cfe_ = day_to_week(df_ic_cfe,isrolling=True)  \n",
    "df_ic_cfe_['CLOSE'] = df_ic_cfe_['rolling']"
   ]
  },
  {
   "cell_type": "code",
   "execution_count": 77,
   "id": "8ea6b13f",
   "metadata": {
    "ExecuteTime": {
     "end_time": "2024-06-17T03:49:22.498437Z",
     "start_time": "2024-06-17T03:49:22.494060Z"
    }
   },
   "outputs": [],
   "source": [
    "bbands_idc_iccfe = get_bbands_idc(df_ic_cfe_,nbdevup=1.5, nbdevdn=1.5)  # 获取indicator"
   ]
  },
  {
   "cell_type": "code",
   "execution_count": 109,
   "id": "5ce9039b",
   "metadata": {
    "ExecuteTime": {
     "end_time": "2024-06-17T03:57:05.638218Z",
     "start_time": "2024-06-17T03:57:05.563356Z"
    }
   },
   "outputs": [
    {
     "data": {
      "text/plain": [
       "476"
      ]
     },
     "execution_count": 109,
     "metadata": {},
     "output_type": "execute_result"
    }
   ],
   "source": [
    "bbands_idc_iccfe.to_sql(name='bbands_iccfe_w',con=engine,if_exists='replace',index=True,index_label='Date')  # 因子值写入sql"
   ]
  },
  {
   "cell_type": "markdown",
   "id": "596634cc",
   "metadata": {},
   "source": [
    "#### if_cfe"
   ]
  },
  {
   "cell_type": "code",
   "execution_count": 78,
   "id": "07fe6272",
   "metadata": {
    "ExecuteTime": {
     "end_time": "2024-06-17T03:49:24.228977Z",
     "start_time": "2024-06-17T03:49:24.168684Z"
    }
   },
   "outputs": [],
   "source": [
    "df_if_cfe = pd.read_sql('SELECT * FROM if_cfe', engine,index_col='Date')  # 从meta_data提取数据\n",
    "df_if_cfe.rename(columns={'ANAL_BASISANNUALYIELD':'CLOSE'},inplace=True)\n",
    "df_if_cfe_ = day_to_week(df_if_cfe,isrolling=True)  \n",
    "df_if_cfe_['CLOSE'] = df_if_cfe_['rolling']"
   ]
  },
  {
   "cell_type": "code",
   "execution_count": 79,
   "id": "33414b3b",
   "metadata": {
    "ExecuteTime": {
     "end_time": "2024-06-17T03:49:25.724390Z",
     "start_time": "2024-06-17T03:49:25.717086Z"
    }
   },
   "outputs": [],
   "source": [
    "bbands_idc_ifcfe = get_bbands_idc(df_if_cfe_,nbdevup=1.5, nbdevdn=1.5)  # 获取indicator"
   ]
  },
  {
   "cell_type": "code",
   "execution_count": 110,
   "id": "e9ba52ee",
   "metadata": {
    "ExecuteTime": {
     "end_time": "2024-06-17T03:57:20.157430Z",
     "start_time": "2024-06-17T03:57:20.091903Z"
    }
   },
   "outputs": [
    {
     "data": {
      "text/plain": [
       "737"
      ]
     },
     "execution_count": 110,
     "metadata": {},
     "output_type": "execute_result"
    }
   ],
   "source": [
    "bbands_idc_ifcfe.to_sql(name='bbands_ifcfe_w',con=engine,if_exists='replace',index=True,index_label='Date')  # 因子值写入sql"
   ]
  },
  {
   "cell_type": "markdown",
   "id": "64e00a8d",
   "metadata": {},
   "source": [
    "#### vol"
   ]
  },
  {
   "cell_type": "code",
   "execution_count": 80,
   "id": "ad354638",
   "metadata": {
    "ExecuteTime": {
     "end_time": "2024-06-17T03:49:29.076160Z",
     "start_time": "2024-06-17T03:49:29.027600Z"
    }
   },
   "outputs": [],
   "source": [
    "df_vol = pd.read_sql('SELECT * FROM vol', engine,index_col='Date')  # 从meta_data提取数据\n",
    "df_vol['volumeratio'] = df_vol['CALLVOLUME'] / df_vol['PUTVOLUME']  # 计算1/PCR\n",
    "df_vol_ = day_to_week(df_vol,keywords='volumeratio')\n",
    "df_vol_['volumeratio_'] = (df_vol_['rolling'] - df_vol_['rolling'].shift(1)).rolling(60).mean()"
   ]
  },
  {
   "cell_type": "code",
   "execution_count": 111,
   "id": "41770211",
   "metadata": {
    "ExecuteTime": {
     "end_time": "2024-06-17T03:57:43.836606Z",
     "start_time": "2024-06-17T03:57:43.775502Z"
    }
   },
   "outputs": [
    {
     "data": {
      "text/plain": [
       "486"
      ]
     },
     "execution_count": 111,
     "metadata": {},
     "output_type": "execute_result"
    }
   ],
   "source": [
    "df_vol_['volumeratio_'].to_sql(name='volumeratio_w',con=engine,if_exists='replace',index=True,index_label='Date')  # 因子值写入sql"
   ]
  },
  {
   "cell_type": "markdown",
   "id": "759dfffe",
   "metadata": {},
   "source": [
    "#### oi"
   ]
  },
  {
   "cell_type": "markdown",
   "id": "7ef0a72d",
   "metadata": {},
   "source": [
    "需要注意的，若当月没过完，则不能有当月的月度平均值"
   ]
  },
  {
   "cell_type": "code",
   "execution_count": 81,
   "id": "dc9ed36e",
   "metadata": {
    "ExecuteTime": {
     "end_time": "2024-06-17T03:49:33.929197Z",
     "start_time": "2024-06-17T03:49:33.891144Z"
    }
   },
   "outputs": [],
   "source": [
    "df_oi = pd.read_sql('SELECT * FROM oi', engine,index_col='Date')  # 从meta_data提取数据\n",
    "df_oi['oiratio'] = (df_oi['PUTOI'] / df_oi['CALLOI']).rolling(20).mean()"
   ]
  },
  {
   "cell_type": "code",
   "execution_count": 82,
   "id": "38f58763",
   "metadata": {
    "ExecuteTime": {
     "end_time": "2024-06-17T03:49:35.164005Z",
     "start_time": "2024-06-17T03:49:35.154014Z"
    }
   },
   "outputs": [],
   "source": [
    "# 用到月频策略，变成月频数据\n",
    "df_oi.index = pd.to_datetime(df_oi.index)\n",
    "df_oi_ = df_oi.resample('M').mean()"
   ]
  },
  {
   "cell_type": "code",
   "execution_count": 112,
   "id": "082c0162",
   "metadata": {
    "ExecuteTime": {
     "end_time": "2024-06-17T03:58:02.521200Z",
     "start_time": "2024-06-17T03:58:02.469042Z"
    }
   },
   "outputs": [
    {
     "data": {
      "text/plain": [
       "113"
      ]
     },
     "execution_count": 112,
     "metadata": {},
     "output_type": "execute_result"
    }
   ],
   "source": [
    "df_oi_['oiratio'].to_sql(name='oiratio_m',con=engine,if_exists='replace',index=True,index_label='Date')  # 因子值写入sql"
   ]
  }
 ],
 "metadata": {
  "kernelspec": {
   "display_name": "Python 3 (ipykernel)",
   "language": "python",
   "name": "python3"
  },
  "language_info": {
   "codemirror_mode": {
    "name": "ipython",
    "version": 3
   },
   "file_extension": ".py",
   "mimetype": "text/x-python",
   "name": "python",
   "nbconvert_exporter": "python",
   "pygments_lexer": "ipython3",
   "version": "3.11.5"
  },
  "toc": {
   "base_numbering": 1,
   "nav_menu": {},
   "number_sections": true,
   "sideBar": true,
   "skip_h1_title": false,
   "title_cell": "Table of Contents",
   "title_sidebar": "Contents",
   "toc_cell": false,
   "toc_position": {
    "height": "calc(100% - 180px)",
    "left": "10px",
    "top": "150px",
    "width": "234.667px"
   },
   "toc_section_display": true,
   "toc_window_display": false
  }
 },
 "nbformat": 4,
 "nbformat_minor": 5
}
